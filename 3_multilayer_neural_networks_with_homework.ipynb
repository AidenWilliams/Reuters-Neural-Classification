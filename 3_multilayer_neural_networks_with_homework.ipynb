{
  "nbformat": 4,
  "nbformat_minor": 2,
  "metadata": {
    "orig_nbformat": 4,
    "language_info": {
      "name": "python",
      "version": "3.9.7",
      "mimetype": "text/x-python",
      "codemirror_mode": {
        "name": "ipython",
        "version": 3
      },
      "pygments_lexer": "ipython3",
      "nbconvert_exporter": "python",
      "file_extension": ".py"
    },
    "kernelspec": {
      "name": "python3",
      "display_name": "Python 3.9.7 64-bit ('deep_learning': conda)"
    },
    "interpreter": {
      "hash": "6373b15377dc5c05a5073b836ed082cfa9711d1d4f261d0331bc62e4292c03d3"
    },
    "colab": {
      "name": "3 multilayer_neural_networks.ipynb",
      "provenance": [],
      "collapsed_sections": []
    },
    "accelerator": "GPU"
  },
  "cells": [
    {
      "cell_type": "code",
      "execution_count": 1,
      "source": [
        "%matplotlib inline\n",
        "\n",
        "import numpy as np\n",
        "import torch\n",
        "import matplotlib.pyplot as plt\n",
        "import random\n",
        "import sklearn.feature_extraction\n",
        "import sklearn.model_selection\n",
        "import nltk"
      ],
      "outputs": [],
      "metadata": {
        "id": "yU8SfumvAcRt"
      }
    },
    {
      "cell_type": "markdown",
      "source": [
        "# Multilayer neural networks\n",
        "\n",
        "In the previous chapter we saw some history about the perceptron and said that people were thinking that this simple model could do very complex things.\n",
        "Minsky and Papert changed all that when they published their mathematical proof in 1969 showing that perceptrons were not even able to correctly classify whether two bits were the same or not.\n",
        "Logistic regression classifiers have this same problem.\n",
        "Let's see what this means and why."
      ],
      "metadata": {
        "id": "YnAGo1u1AcRz"
      }
    },
    {
      "cell_type": "markdown",
      "source": [
        "## The XOR problem\n",
        "\n",
        "We've seen the NOT gate and the AND gate, but there is another common gate called the exclusive OR gate, or XOR gate.\n",
        "The behaviour of an XOR gate is to send an 'on' signal when the two signals it receives are different from each other and an 'off' signal otherwise:\n",
        "\n",
        "| $x_1$ | $x_2$ | $y$ |\n",
        "|-------|-------|-----|\n",
        "| 0     | 0     | 0   |\n",
        "| 0     | 1     | 1   |\n",
        "| 1     | 0     | 1   |\n",
        "| 1     | 1     | 0   |\n",
        "\n",
        "So let's try learning a logistic regression classifier to perform the above training set:"
      ],
      "metadata": {
        "id": "HdO4N4LLAcR2"
      }
    },
    {
      "cell_type": "code",
      "execution_count": 2,
      "source": [
        "train_x = torch.tensor([[0, 0], [0, 1], [1, 0], [1, 1]], dtype=torch.float32)\n",
        "train_y = torch.tensor([[0], [1], [1], [0]], dtype=torch.float32)\n",
        "\n",
        "class Logistic(torch.nn.Module):\n",
        "\n",
        "    def __init__(self):\n",
        "        super().__init__()\n",
        "        self.w = torch.nn.Parameter(torch.zeros((2, 1), dtype=torch.float32))\n",
        "        self.b = torch.nn.Parameter(torch.zeros((1,), dtype=torch.float32))\n",
        "\n",
        "    def forward(self, x):\n",
        "        return x@self.w + self.b # Just the logits.\n",
        "\n",
        "model = Logistic()\n",
        "model.to('cpu')\n",
        "\n",
        "optimiser = torch.optim.SGD(model.parameters(), lr=10.0)\n",
        "\n",
        "print('step', 'error')\n",
        "for step in range(1, 10+1):\n",
        "    optimiser.zero_grad()\n",
        "    output = model(train_x)\n",
        "    error = torch.nn.functional.binary_cross_entropy_with_logits(output, train_y)\n",
        "    error.backward()\n",
        "    optimiser.step()\n",
        "\n",
        "    print(step, error.detach().tolist())\n",
        "print()\n",
        "\n",
        "print('x0', 'x1', 'y')\n",
        "print(0, 0, torch.sigmoid(model(torch.tensor([[0, 0]], dtype=torch.float32))))\n",
        "print(0, 1, torch.sigmoid(model(torch.tensor([[0, 1]], dtype=torch.float32))))\n",
        "print(1, 0, torch.sigmoid(model(torch.tensor([[1, 0]], dtype=torch.float32))))\n",
        "print(1, 1, torch.sigmoid(model(torch.tensor([[1, 1]], dtype=torch.float32))))\n",
        "print()\n",
        "\n",
        "print('w:')\n",
        "print(model.w.data)\n",
        "print('b:')\n",
        "print(model.b.data)"
      ],
      "outputs": [
        {
          "output_type": "stream",
          "name": "stdout",
          "text": [
            "step error\n",
            "1 0.6931471824645996\n",
            "2 0.6931471824645996\n",
            "3 0.6931471824645996\n",
            "4 0.6931471824645996\n",
            "5 0.6931471824645996\n",
            "6 0.6931471824645996\n",
            "7 0.6931471824645996\n",
            "8 0.6931471824645996\n",
            "9 0.6931471824645996\n",
            "10 0.6931471824645996\n",
            "\n",
            "x0 x1 y\n",
            "0 0 tensor([[0.5000]], grad_fn=<SigmoidBackward>)\n",
            "0 1 tensor([[0.5000]], grad_fn=<SigmoidBackward>)\n",
            "1 0 tensor([[0.5000]], grad_fn=<SigmoidBackward>)\n",
            "1 1 tensor([[0.5000]], grad_fn=<SigmoidBackward>)\n",
            "\n",
            "w:\n",
            "tensor([[0.],\n",
            "        [0.]])\n",
            "b:\n",
            "tensor([0.])\n"
          ]
        }
      ],
      "metadata": {
        "colab": {
          "base_uri": "https://localhost:8080/"
        },
        "id": "Tr-jMThoAcR3",
        "outputId": "002dfcba-f969-4132-d3f6-3bc8d3c7749a"
      }
    },
    {
      "cell_type": "markdown",
      "source": [
        "No progress at all happens when starting from all parameters being zero as the parameters remain the same because the gradients remains zero.\n",
        "In fact there are no parameters you can use that will give you the right output for all inputs.\n",
        "We can see why this is by plotting the output of the classifier for different parameters.\n",
        "To avoid having a difficult-to-see 3D graph, we'll instead be using a heat map that uses colour to show where the graph is high (red) and low (blue)."
      ],
      "metadata": {
        "id": "Y_oZ5tOhAcR8"
      }
    },
    {
      "cell_type": "code",
      "execution_count": 3,
      "source": [
        "(fig, axs) = plt.subplots(1, 8, figsize=(20, 2))\n",
        "for i in range(8):\n",
        "    axs[i].set_xlabel('$x_0$')\n",
        "    axs[i].set_ylabel('$x_1$')\n",
        "\n",
        "    w1 = 4*(2*np.random.random() - 1)\n",
        "    w2 = 4*(2*np.random.random() - 1)\n",
        "    b = 4*(2*np.random.random() - 1)\n",
        "\n",
        "    sigmoid = lambda x:1/(1 + np.exp(-x))\n",
        "    (xs1, xs0) = np.mgrid[0:1.01:0.01, 0:1.01:0.01]\n",
        "    ys = sigmoid(w1*xs0 + w2*xs1 + b)\n",
        "    axs[i].matshow(ys, cmap='bwr', extent=(0, 1, 0, 1))\n",
        "\n",
        "    print('w1: {:6.3f}, w2: {:6.3f}, b: {:6.3f}'.format(w1, w2, b))"
      ],
      "outputs": [
        {
          "output_type": "stream",
          "name": "stdout",
          "text": [
            "w1: -3.890, w2:  0.108, b:  2.730\n",
            "w1:  0.500, w2: -0.903, b:  2.511\n",
            "w1: -3.491, w2: -3.494, b: -2.169\n",
            "w1:  1.894, w2: -1.715, b:  2.571\n",
            "w1: -0.356, w2:  3.976, b: -3.565\n",
            "w1: -2.507, w2:  2.346, b: -1.272\n",
            "w1: -0.617, w2: -0.544, b:  1.878\n",
            "w1:  1.441, w2:  2.897, b:  0.061\n"
          ]
        },
        {
          "output_type": "display_data",
          "data": {
            "image/png": "[encoded data removed]",
            "text/plain": [
              "<Figure size 1440x144 with 8 Axes>"
            ]
          },
          "metadata": {
            "needs_background": "light"
          }
        }
      ],
      "metadata": {
        "colab": {
          "base_uri": "https://localhost:8080/",
          "height": 317
        },
        "id": "gL-ChokFAcR9",
        "outputId": "e3d9cf7c-be83-4c77-9d2a-215b1ab9ca62"
      }
    },
    {
      "cell_type": "markdown",
      "source": [
        "To understand these heat maps, the training set is concerned with the four corners of these squares.\n",
        "Each corner corresponds to the input `[0,0]`, `[0,1]`, `[1,0]`, and `[1,1]`.\n",
        "In an AND gate, `[0,0]` had to be 0 (blue), `[0,1]` has to be 0 (blue), `[1,0]` had to be 0 (blue), and `[1,1]` had to be 1 (red).\n",
        "So basically three corners had to be blue whilst the top right corner had to be red.\n",
        "\n",
        "If you looked at how the heat map changed for different parameters, you'd notice that there's always a straight white line separating the red from the blue.\n",
        "Note how the only thing that the parameters change is where the line is and how it's rotated (where if it's rotated 180 degrees then the red and blue areas swap sides).\n",
        "In the case of an AND gate, it is easy to imagine how the line should be positioned to get a red upper right corner with all the other corners being blue.\n",
        "Unfortunately, in the case of an XOR gate, this isn't possible, because we'd need to position the line in such a way to get the coloured corners below:"
      ],
      "metadata": {
        "id": "frttvJaeAcR_"
      }
    },
    {
      "cell_type": "code",
      "execution_count": 4,
      "source": [
        "(fig, ax) = plt.subplots(1, 1)\n",
        "ax.set_xlabel('$x_0$')\n",
        "ax.set_ylabel('$x_1$')\n",
        "\n",
        "ys = np.full((100, 100), 0.5)\n",
        "ys[:25, :25] = 1\n",
        "ys[:25, -25:] = 0\n",
        "ys[-25:, -25:] = 1\n",
        "ys[-25:, :25] = 0\n",
        "ax.matshow(ys, cmap='bwr', extent=(0, 1, 0, 1))"
      ],
      "outputs": [
        {
          "output_type": "execute_result",
          "data": {
            "text/plain": [
              "<matplotlib.image.AxesImage at 0x7f757df14670>"
            ]
          },
          "metadata": {},
          "execution_count": 4
        },
        {
          "output_type": "display_data",
          "data": {
            "image/png": "[encoded data removed]",
            "text/plain": [
              "<Figure size 432x288 with 1 Axes>"
            ]
          },
          "metadata": {
            "needs_background": "light"
          }
        }
      ],
      "metadata": {
        "colab": {
          "base_uri": "https://localhost:8080/",
          "height": 299
        },
        "id": "M6JWjd7_AcSA",
        "outputId": "4b766e27-9623-45f9-da2e-fe0978159131"
      }
    },
    {
      "cell_type": "markdown",
      "source": [
        "A straight line cannot separate reds and blues as shown above, so, given that different parameters can only work with a straight line, this proves that the logistic regression classifier cannot learn the behaviour of an XOR gate.\n",
        "We call such problems, that can be solved by a straight line, linearly separable problems.\n",
        "The XOR problem is a non-linearly separable problem."
      ],
      "metadata": {
        "id": "pA3y9WEQAcSB"
      }
    },
    {
      "cell_type": "markdown",
      "source": [
        "## The hidden layer\n",
        "\n",
        "When Minsky and Papert published this proof about perceptrons, they also gave a solution to it: pass the output of several perceptrons into another perceptron.\n",
        "a set of perceptrons connected in series could in fact solve the XOR problem, provided you had the right parameters.\n",
        "The problem was that the learning algorithm of the perceptron could only be used on one perceptron, not two at once.\n",
        "Gradient descent could be used on two models at once, but the perceptron's sign function does not work with gradient descent because sign has no gradient (it's always 0 as it has no slope steepness to measure).\n",
        "The logistic regression classifier's sigmoid function, on the other hand, has a gradient and this is when the XOR problem was solved by Rumelhart, Hinton, and Williams in 1986: feeding the output of a logistic regression classifier into another logistic regression classifier.\n",
        "\n",
        "Let's see the heat map of such a model:"
      ],
      "metadata": {
        "id": "Zxf26xAuAcSC"
      }
    },
    {
      "cell_type": "code",
      "execution_count": 5,
      "source": [
        "(fig, ax) = plt.subplots(1, 1)\n",
        "ax.set_xlabel('$x_0$')\n",
        "ax.set_ylabel('$x_1$')\n",
        "\n",
        "sigmoid = lambda x:1/(1 + np.exp(-x))\n",
        "(xs1, xs0) = np.mgrid[0:1.01:0.01, 0:1.01:0.01]\n",
        "h1 = sigmoid(-10.0*xs0 + -10.0*xs1 + 15.0)\n",
        "h2 = sigmoid(-10.0*xs0 + -10.0*xs1 + 5.0)\n",
        "ys = sigmoid(10.0*h1 + -10.0*h2 + -15.0)\n",
        "ax.matshow(ys, cmap='bwr', extent=(0, 1, 0, 1))"
      ],
      "outputs": [
        {
          "output_type": "execute_result",
          "data": {
            "text/plain": [
              "<matplotlib.image.AxesImage at 0x7f757ded78b0>"
            ]
          },
          "metadata": {},
          "execution_count": 5
        },
        {
          "output_type": "display_data",
          "data": {
            "image/png": "[encoded data removed]",
            "text/plain": [
              "<Figure size 432x288 with 1 Axes>"
            ]
          },
          "metadata": {
            "needs_background": "light"
          }
        }
      ],
      "metadata": {
        "colab": {
          "base_uri": "https://localhost:8080/",
          "height": 299
        },
        "id": "Uke3ood7AcSD",
        "outputId": "1d6f344d-b74c-47c9-e36a-ecf46b671e22"
      }
    },
    {
      "cell_type": "markdown",
      "source": [
        "And here we see an example of a non-linear model.\n",
        "We can now have two slopes in our 3D graph, which allows us to solve the XOR problem.\n",
        "\n",
        "This is what the graphical diagram of the model looks like:\n",
        "\n",
        "![](neuron_diagram.png)\n",
        "\n",
        "Note how we now need to add a third number to the names of the weights and a second number to the name of the biases in order to specify in which layer they belong to.\n",
        "These layers have names: the first layer of neural units is called the hidden layer, because you don't get to see these outputs, and the second layer is called the output layer.\n",
        "The output numbers by each neural unit are called activations.\n",
        "We can also visualise the architecture as a simplified block diagram:\n",
        "\n",
        "![](block_diagram.png)\n",
        "\n",
        "It's important to keep in mind that each one of the hidden neural units is still performing a linearly separable task.\n",
        "What's happening is that we are combining two lines together into a single model.\n",
        "Let's see the heat map of each hidden neural unit:"
      ],
      "metadata": {
        "id": "Wnios1ZVAcSE"
      }
    },
    {
      "cell_type": "code",
      "execution_count": 6,
      "source": [
        "(fig, axs) = plt.subplots(1, 3)\n",
        "axs[0].set_xlabel('$x_0$')\n",
        "axs[0].set_ylabel('$x_1$')\n",
        "axs[1].set_xlabel('$x_0$')\n",
        "axs[1].set_ylabel('$x_1$')\n",
        "axs[2].set_xlabel('$x_0$')\n",
        "axs[2].set_ylabel('$x_1$')\n",
        "\n",
        "sigmoid = lambda x:1/(1 + np.exp(-x))\n",
        "(xs1, xs0) = np.mgrid[0:1.01:0.01, 0:1.01:0.01]\n",
        "h0 = sigmoid(-10.0*xs0 + -10.0*xs1 + 15.0)\n",
        "h1 = sigmoid(-10.0*xs0 + -10.0*xs1 + 5.0)\n",
        "ys = sigmoid(10.0*h0 + -10.0*h1 + -15.0)\n",
        "\n",
        "axs[0].matshow(h0, cmap='bwr', extent=(0, 1, 0, 1))\n",
        "axs[0].text(0.4, 0.4, 'h0')\n",
        "axs[1].matshow(h1, cmap='bwr', extent=(0, 1, 0, 1))\n",
        "axs[1].text(0.4, 0.4, 'h1')\n",
        "axs[2].matshow(ys, cmap='bwr', extent=(0, 1, 0, 1))\n",
        "axs[2].text(0.4, 0.4, 'y')"
      ],
      "outputs": [
        {
          "output_type": "execute_result",
          "data": {
            "text/plain": [
              "Text(0.4, 0.4, 'y')"
            ]
          },
          "metadata": {},
          "execution_count": 6
        },
        {
          "output_type": "display_data",
          "data": {
            "image/png": "[encoded data removed]",
            "text/plain": [
              "<Figure size 432x288 with 3 Axes>"
            ]
          },
          "metadata": {
            "needs_background": "light"
          }
        }
      ],
      "metadata": {
        "colab": {
          "base_uri": "https://localhost:8080/",
          "height": 180
        },
        "id": "d6Aqpi2VAcSF",
        "outputId": "4679cbdf-e0d5-4d4a-eeb6-c2af74478103"
      }
    },
    {
      "cell_type": "markdown",
      "source": [
        "Let's use this two layer neural network (as it's called) in PyTorch:"
      ],
      "metadata": {
        "id": "1hJIiDkxAcSG"
      }
    },
    {
      "cell_type": "code",
      "execution_count": 7,
      "source": [
        "train_x = torch.tensor([[0, 0], [0, 1], [1, 0], [1, 1]], dtype=torch.float32)\n",
        "train_y = torch.tensor([[0], [1], [1], [0]], dtype=torch.float32)\n",
        "\n",
        "class TwoLayer(torch.nn.Module):\n",
        "\n",
        "    def __init__(self):\n",
        "        super().__init__()\n",
        "        self.w1 = torch.nn.Parameter(torch.tensor(np.random.normal(0.0, 1.0, (2, 2)), dtype=torch.float32))\n",
        "        self.b1 = torch.nn.Parameter(torch.zeros((2,), dtype=torch.float32))\n",
        "        self.w2 = torch.nn.Parameter(torch.tensor(np.random.normal(0.0, 1.0, (2, 1)), dtype=torch.float32))\n",
        "        self.b2 = torch.nn.Parameter(torch.zeros((1,), dtype=torch.float32))\n",
        "\n",
        "    def forward(self, x):\n",
        "        hidden = torch.sigmoid(x@self.w1 + self.b1)\n",
        "        return hidden@self.w2 + self.b2 # Just the logits.\n",
        "\n",
        "model = TwoLayer()\n",
        "model.to('cpu')\n",
        "\n",
        "optimiser = torch.optim.SGD(model.parameters(), lr=10.0)\n",
        "\n",
        "print('step', 'error')\n",
        "for step in range(1, 1000+1):\n",
        "    optimiser.zero_grad()\n",
        "    output = model(train_x)\n",
        "    error = torch.nn.functional.binary_cross_entropy_with_logits(output, train_y)\n",
        "    error.backward()\n",
        "    optimiser.step()\n",
        "\n",
        "    if step%100 == 0:\n",
        "        print(step, error.detach().tolist())\n",
        "print()\n",
        "\n",
        "print('x0', 'x1', 'y')\n",
        "print(0, 0, torch.sigmoid(model(torch.tensor([[0, 0]], dtype=torch.float32))).detach().numpy())\n",
        "print(0, 1, torch.sigmoid(model(torch.tensor([[0, 1]], dtype=torch.float32))).detach().numpy())\n",
        "print(1, 0, torch.sigmoid(model(torch.tensor([[1, 0]], dtype=torch.float32))).detach().numpy())\n",
        "print(1, 1, torch.sigmoid(model(torch.tensor([[1, 1]], dtype=torch.float32))).detach().numpy())"
      ],
      "outputs": [
        {
          "output_type": "stream",
          "name": "stdout",
          "text": [
            "step error\n",
            "100 0.35531601309776306\n",
            "200 0.3500116765499115\n",
            "300 0.34868669509887695\n",
            "400 0.3480917811393738\n",
            "500 0.34775540232658386\n",
            "600 0.34753966331481934\n",
            "700 0.34738969802856445\n",
            "800 0.3472795784473419\n",
            "900 0.34719526767730713\n",
            "1000 0.3471287488937378\n",
            "\n",
            "x0 x1 y\n",
            "0 0 [[0.00063024]]\n",
            "0 1 [[0.49969733]]\n",
            "1 0 [[0.9994542]]\n",
            "1 1 [[0.50021815]]\n"
          ]
        }
      ],
      "metadata": {
        "colab": {
          "base_uri": "https://localhost:8080/"
        },
        "id": "IGRiFDH5AcSH",
        "outputId": "65c0cec8-57dd-4f41-f5c4-241516f27c97"
      }
    },
    {
      "cell_type": "markdown",
      "source": [
        "You will note in the above code that the weights were not initialised from zeros like we did with the logistic regression classifier but from random numbers.\n",
        "In fact starting from zero will not work because all the outputs and gradients will be zero which makes optimisation impossible.\n",
        "In the case of the logistic regression classifier, initialising the weights randomly would not help, but with a hidden layer it will.\n",
        "We also want to encourage the different neural units to learn to behave differently from each other.\n",
        "The standard way to initialise our weights is with random numbers, specifically random numbers generated from a [normal distribution](https://en.wikipedia.org/wiki/Normal_distribution) (`np.random.normal`).\n",
        "A normal distribution (more commonly known as a bell curve) is a type of probability distribution that generates numbers such that they have a given mean and standard deviation.\n",
        "Here we're generating numbers that have a mean of 0 and standard deviation of 1, so the numbers will be around zero (positive and negative numbers).\n",
        "In general, the rule of thumb is to make the weights have a mean of zero and a small standard deviation whilst the biases should be initialised from zeros without any random numbers.\n",
        "\n",
        "Adding more hidden layer units allows us to create more complex graph shapes when plotting the model's output.\n",
        "Below is a plot of a three unit hidden layer network:"
      ],
      "metadata": {
        "id": "NK1TRCbjAcSH"
      }
    },
    {
      "cell_type": "code",
      "execution_count": 8,
      "source": [
        "(fig, ax) = plt.subplots(1, 1)\n",
        "ax.set_xlabel('$x_0$')\n",
        "ax.set_ylabel('$x_1$')\n",
        "\n",
        "sigmoid = lambda x:1/(1 + np.exp(-x))\n",
        "(xs1, xs0) = np.mgrid[0:1.01:0.01, 0:1.01:0.01]\n",
        "h0 = sigmoid(10.0*xs0 + 5.0*xs1 + -10.0)\n",
        "h1 = sigmoid(-10.0*xs0 + 10.0*xs1 + 0.0)\n",
        "h2 = sigmoid(5.0*xs0 + -10.0*xs1 + 0.0)\n",
        "ys = sigmoid(-10.0*h0 + -10.0*h1 + -10.0*h2 + 5.0)\n",
        "\n",
        "ax.matshow(ys, cmap='bwr', extent=(0, 1, 0, 1))"
      ],
      "outputs": [
        {
          "output_type": "execute_result",
          "data": {
            "text/plain": [
              "<matplotlib.image.AxesImage at 0x7f757dddb520>"
            ]
          },
          "metadata": {},
          "execution_count": 8
        },
        {
          "output_type": "display_data",
          "data": {
            "image/png": "[encoded data removed]",
            "text/plain": [
              "<Figure size 432x288 with 1 Axes>"
            ]
          },
          "metadata": {
            "needs_background": "light"
          }
        }
      ],
      "metadata": {
        "colab": {
          "base_uri": "https://localhost:8080/",
          "height": 299
        },
        "id": "YQKQqTKPAcSI",
        "outputId": "2f76cebd-1656-4c28-9fcc-d6e70f9858dd"
      }
    },
    {
      "cell_type": "markdown",
      "source": [
        "A larger hidden layer will allow for more complexity, but is there enough complexity?\n",
        "Will adding a second hidden layer allow the network to learn even more complex behaviour?\n",
        "\n",
        "The answer is no, a large enough single hidden layer can learn to perform any task, provided that you find the right parameters.\n",
        "In fact there is a [mathematical proof](https://www.sciencedirect.com/science/article/abs/pii/0893608089900208) that shows that single hidden layer neural networks (with enough neural units) are universal approximators, that is, can have any finite region of their graph be made into approximately any shape.\n",
        "'Approximately any shape' means that you can get as close as you want but, in many cases, never reach a perfect match.\n",
        "Note that polynomials are also univeral approximators, given enough terms in the polynomial.\n",
        "\n",
        "On the other hand, there is also [another mathematical proof](http://proceedings.mlr.press/v49/eldan16.html) that shows that, whilst having two hidden layers does not add more expressiveness than that of a single hidden layer network, it does enable the network to require less neural units in total.\n",
        "So adding more hidden layers results in more efficient networks that can be more complex with less parameters, which is always good."
      ],
      "metadata": {
        "id": "JHSR76pmAcSJ"
      }
    },
    {
      "cell_type": "markdown",
      "source": [
        "## Training better\n",
        "\n",
        "Whilst it is definitely possible to optimise our two layer model to learn many complex behaviour, it is also more difficult to do so than the normal logistic regression classifier.\n",
        "This is because the error surface is no longer convex.\n",
        "\n",
        "We can't visualise all 9 parameters as that would require us to plot a 10 dimensional graph.\n",
        "What we'll do instead is show a 3D slice through the 10 dimensional graph by only varying two of the ten parameters whilst keeping all the other parameters fixed to a random value.\n",
        "We'll be plotting the error on the XOR training set."
      ],
      "metadata": {
        "id": "-Jcs53aOAcSJ"
      }
    },
    {
      "cell_type": "code",
      "execution_count": 9,
      "source": [
        "(fig, ax) = plt.subplots(1, 1, subplot_kw={'projection': '3d'})\n",
        "ax.set_xlabel('$b00$')\n",
        "ax.set_ylabel('$w000$')\n",
        "ax.set_zlabel('$E$')\n",
        "\n",
        "w001 = 20*(2*np.random.random() - 1)\n",
        "w010 = 20*(2*np.random.random() - 1)\n",
        "w011 = 20*(2*np.random.random() - 1)\n",
        "b01  = 20*(2*np.random.random() - 1)\n",
        "w100 = 20*(2*np.random.random() - 1)\n",
        "w110 = 20*(2*np.random.random() - 1)\n",
        "b10  = 20*(2*np.random.random() - 1)\n",
        "\n",
        "sig = lambda x:1/(1 + np.exp(-x))\n",
        "nn = lambda x0, x1, w000, w001, w010, w011, b00, b01, w100, w110, b10: \\\n",
        "    sig(w100*sig(x0*w000 + x1*w010 + b00) + w110*sig(x0*w001 + x1*w011 + b01) + b10)\n",
        "f = lambda w000,b00:0.25*(\n",
        "    -np.log(1 - nn(0, 0, w000, w001, w010, w011, b00, b01, w100, w110, b10)) # target 0\n",
        "    + -np.log(nn(0, 1, w000, w001, w010, w011, b00, b01, w100, w110, b10)) # target 1\n",
        "    + -np.log(nn(1, 0, w000, w001, w010, w011, b00, b01, w100, w110, b10)) # target 1\n",
        "    + -np.log(1 - nn(1, 1, w000, w001, w010, w011, b00, b01, w100, w110, b10)) # target 0\n",
        ")\n",
        "(ws, bs) = np.mgrid[-20:20.1:0.1, -20:20.1:0.1]\n",
        "es = f(ws, bs)\n",
        "ax.plot_surface(bs, ws, es, color='red', linewidth=0, antialiased=True)"
      ],
      "outputs": [
        {
          "output_type": "execute_result",
          "data": {
            "text/plain": [
              "<mpl_toolkits.mplot3d.art3d.Poly3DCollection at 0x7f757dcf9190>"
            ]
          },
          "metadata": {},
          "execution_count": 9
        },
        {
          "output_type": "display_data",
          "data": {
            "image/png": "[encoded data removed]",
            "text/plain": [
              "<Figure size 432x288 with 1 Axes>"
            ]
          },
          "metadata": {
            "needs_background": "light"
          }
        }
      ],
      "metadata": {
        "colab": {
          "base_uri": "https://localhost:8080/",
          "height": 266
        },
        "id": "XnM3nq9pAcSJ",
        "outputId": "f7509a1b-c9ae-4e95-916e-5d68e70b533a"
      }
    },
    {
      "cell_type": "markdown",
      "source": [
        "Imagine how complex the entire 10-dimensional graph is.\n",
        "Due to this complexity, several techniques were developed in order to help with training."
      ],
      "metadata": {
        "id": "nDYbpLQCAcSK"
      }
    },
    {
      "cell_type": "markdown",
      "source": [
        "### Minibatches\n",
        "\n",
        "Since the error surface is no longer convex, we now run the risk of getting stuck in a local minimum, which is a point in the error surface where any small change in parameters will result in a larger error, so training cannot continue, but which is not the smallest error in the entire error surface.\n",
        "Below is an example:"
      ],
      "metadata": {
        "id": "o1l0T-uuAcSK"
      }
    },
    {
      "cell_type": "code",
      "execution_count": 10,
      "source": [
        "(fig, ax) = plt.subplots(1, 1)\n",
        "ax.set_xlabel('$p$')\n",
        "ax.set_ylabel('$E$')\n",
        "\n",
        "f = lambda p:0.052*p**4 - 0.69*p**3 + 3.09*p**2 - 5.63*p + 5.02\n",
        "ps = np.mgrid[0:7.1:0.01]\n",
        "es = f(ps)\n",
        "ax.plot(ps, es, color='red', marker='', linestyle='-', linewidth=1)\n",
        "\n",
        "ax.plot([1.8, 5.3], [1.45, 0.3], color='black', marker='o', markersize=5, linestyle='')\n",
        "ax.text(0.8, 2.0, 'local minimum', fontdict={'fontsize': 12})\n",
        "ax.text(3.5, 1.0, 'local and global minimum', fontdict={'fontsize': 12})"
      ],
      "outputs": [
        {
          "output_type": "execute_result",
          "data": {
            "text/plain": [
              "Text(3.5, 1.0, 'local and global minimum')"
            ]
          },
          "metadata": {},
          "execution_count": 10
        },
        {
          "output_type": "display_data",
          "data": {
            "image/png": "[encoded data removed]",
            "text/plain": [
              "<Figure size 432x288 with 1 Axes>"
            ]
          },
          "metadata": {
            "needs_background": "light"
          }
        }
      ],
      "metadata": {
        "colab": {
          "base_uri": "https://localhost:8080/",
          "height": 299
        },
        "id": "7ASeirSuAcSK",
        "outputId": "d8b9f643-f7e8-4d19-d5de-cd50265cd43c"
      }
    },
    {
      "cell_type": "markdown",
      "source": [
        "Here we see an error surface with a single parameter ($p$) which has two local minima, only one of which is a global minimum.\n",
        "If gradient descent gets you in the first local minimum, it will not be able to escape it (unless the learning rate is too large, in which case you'll have bigger problems).\n",
        "\n",
        "To make gradient descent be able to avoid this problem, we do not calculate the error on the entire training set.\n",
        "Instead we take a random sample of training set rows and calculate the error on that.\n",
        "This sample is called a minibatch.\n",
        "After completing an update step on this minibatch, another different minibatch is loaded and another update step is performed based on the new minibatch, and so on.\n",
        "\n",
        "The first advantage of using minibatches instead of the entire training set at once is that you do not need to pass in the entire training set to the neural network, which would take a lot of memory for large data sets (including GPU memory, which is limited).\n",
        "The second advantage is that the error surface is changing with each update, meaning that getting stuck in a local minimum will probably only last for one update step.\n",
        "After changing the minibatch you will have a new error surface which will have differently positioned local minima, hence you would be able to continue progressing.\n",
        "\n",
        "Of course this makes training less stable and the error will tend to fluctuate during training, which is a disadvantage.\n",
        "To make the process more stable, we use a smaller learning rate in order to avoid going too far off in random directions.\n",
        "In general, the process tends to improve training and is the standard way to train neural networks.\n",
        "The optimisation algorithm of using gradient descent with minibatches is called stochastic gradient descent (SGD) because of the randomness introduced from the random training samples.\n",
        "\n",
        "The full SGD algorithm works as follows.\n",
        "Randomly shuffle the order of the rows in the training set and take the first $m$ items, where $m$ is a minibatch size that you choose.\n",
        "This will be the first minibatch.\n",
        "Now perform an update step on this minibatch and then take the next $m$ items from the training set.\n",
        "Repeat this process until all the items in the training set have been visited.\n",
        "Going through the entire training set is called an epoch.\n",
        "Having finished an epoch, reshuffle the training set and repeat for a number of epochs.\n",
        "\n",
        "This guarantees that all the items in the training set are visited equally.\n",
        "Below is how you'd do this in Python:"
      ],
      "metadata": {
        "id": "8geWjJ3xAcSL"
      }
    },
    {
      "cell_type": "markdown",
      "source": [
        "Start by having your training set defined as a NumPy array instead of a PyTorch tensor.\n",
        "The minibatch will be placed in a PyTorch tensor, the whole training set does not need to be."
      ],
      "metadata": {
        "id": "x26xGIsUAcSM"
      }
    },
    {
      "cell_type": "code",
      "execution_count": 11,
      "source": [
        "train_x = np.array([[0, 0], [0, 1], [1, 0], [1, 1]], np.float32)\n",
        "train_y = np.array([[0], [1], [1], [0]], np.float32)"
      ],
      "outputs": [],
      "metadata": {
        "id": "kkPwiLt4AcSM"
      }
    },
    {
      "cell_type": "markdown",
      "source": [
        "Since the training set consists of several arrays (`train_x` and `train_y`), we need to shuffle each array in the same way, otherwise they won't match any more.\n",
        "The neatest way to do this is to take advantage of NumPy's array indexing features which allow you to pass a list of indexes to an array:\n",
        "\n",
        "    x = np.array([10, 20, 30, 40, 50])\n",
        "    y = x[[0,2,3]]\n",
        "    # y contains [10, 30, 40]\n",
        "\n",
        "What we'll do is shuffle an array of indexes and then use the randomised indexes to load minibatches."
      ],
      "metadata": {
        "id": "GbKuIyFmAcSM"
      }
    },
    {
      "cell_type": "code",
      "execution_count": 12,
      "source": [
        "indexes = np.arange(len(train_x))\n",
        "np.random.shuffle(indexes)\n",
        "print(indexes)"
      ],
      "outputs": [
        {
          "output_type": "stream",
          "name": "stdout",
          "text": [
            "[1 2 0 3]\n"
          ]
        }
      ],
      "metadata": {
        "colab": {
          "base_uri": "https://localhost:8080/"
        },
        "id": "48RcpmTjAcSM",
        "outputId": "0a7eedf2-f999-4836-90fd-6ea477771fc7"
      }
    },
    {
      "cell_type": "markdown",
      "source": [
        "Now use the shuffled indexes to extract minibatches (for a given minibatch size):"
      ],
      "metadata": {
        "id": "J9SBJaL4AcSN"
      }
    },
    {
      "cell_type": "code",
      "execution_count": 13,
      "source": [
        "minibatch_size = 2\n",
        "num_minibatches = int(np.ceil(len(train_x)/minibatch_size))\n",
        "for i in range(num_minibatches):\n",
        "    print('minibatch:', i)\n",
        "    minibatch_indexes = indexes[i*minibatch_size:(i+1)*minibatch_size]\n",
        "    print('minibatch_indexes:', minibatch_indexes.tolist())\n",
        "    print('train_x:', train_x[minibatch_indexes].tolist())\n",
        "    print('train_y:', train_y[minibatch_indexes].tolist())\n",
        "    print()"
      ],
      "outputs": [
        {
          "output_type": "stream",
          "name": "stdout",
          "text": [
            "minibatch: 0\n",
            "minibatch_indexes: [1, 2]\n",
            "train_x: [[0.0, 1.0], [1.0, 0.0]]\n",
            "train_y: [[1.0], [1.0]]\n",
            "\n",
            "minibatch: 1\n",
            "minibatch_indexes: [0, 3]\n",
            "train_x: [[0.0, 0.0], [1.0, 1.0]]\n",
            "train_y: [[0.0], [0.0]]\n",
            "\n"
          ]
        }
      ],
      "metadata": {
        "colab": {
          "base_uri": "https://localhost:8080/"
        },
        "id": "l--i-QMVAcSN",
        "outputId": "d3af0e4a-529c-4d95-94fd-544196e926bc"
      }
    },
    {
      "cell_type": "markdown",
      "source": [
        "You can now apply a step of gradient descent on each minibatch extracted from the training set.\n",
        "\n",
        "Here is the full SGD training process in PyTorch:"
      ],
      "metadata": {
        "id": "30tlv6qeAcSO"
      }
    },
    {
      "cell_type": "code",
      "execution_count": 14,
      "source": [
        "train_x = np.array([[0, 0], [0, 1], [1, 0], [1, 1]], np.float32)\n",
        "train_y = np.array([[0], [1], [1], [0]], np.float32)\n",
        "\n",
        "class TwoLayer(torch.nn.Module):\n",
        "\n",
        "    def __init__(self):\n",
        "        super().__init__()\n",
        "        self.w1 = torch.nn.Parameter(torch.tensor(np.random.normal(0.0, 1.0, (2, 2)), dtype=torch.float32))\n",
        "        self.b1 = torch.nn.Parameter(torch.zeros((2,), dtype=torch.float32))\n",
        "        self.w2 = torch.nn.Parameter(torch.tensor(np.random.normal(0.0, 1.0, (2, 1)), dtype=torch.float32))\n",
        "        self.b2 = torch.nn.Parameter(torch.zeros((1,), dtype=torch.float32))\n",
        "\n",
        "    def forward(self, x):\n",
        "        hidden = torch.sigmoid(x@self.w1 + self.b1)\n",
        "        return hidden@self.w2 + self.b2\n",
        "\n",
        "model = TwoLayer()\n",
        "model.to('cpu')\n",
        "\n",
        "optimiser = torch.optim.SGD(model.parameters(), lr=1.0)\n",
        "\n",
        "print('epoch', 'error')\n",
        "for epoch in range(1, 1000+1):\n",
        "    indexes = np.arange(len(train_x))\n",
        "    np.random.shuffle(indexes)\n",
        "\n",
        "    minibatch_size = 2\n",
        "    num_minibatches = int(np.ceil(len(train_x)/minibatch_size))\n",
        "    for i in range(num_minibatches):\n",
        "        minibatch_indexes = indexes[i*minibatch_size:(i+1)*minibatch_size]\n",
        "        minibatch_x = torch.tensor(train_x[minibatch_indexes], dtype=torch.float32, device='cpu')\n",
        "        minibatch_y = torch.tensor(train_y[minibatch_indexes], dtype=torch.float32, device='cpu')\n",
        "\n",
        "        optimiser.zero_grad()\n",
        "        output = model(minibatch_x)\n",
        "        error = torch.nn.functional.binary_cross_entropy_with_logits(output, minibatch_y)\n",
        "        error.backward()\n",
        "        optimiser.step()\n",
        "\n",
        "    if epoch%100 == 0:\n",
        "        print(epoch, error.detach().tolist())\n",
        "print()\n",
        "\n",
        "print('x0', 'x1', 'y')\n",
        "print(0, 0, torch.sigmoid(model(torch.tensor([[0, 0]], dtype=torch.float32))))\n",
        "print(0, 1, torch.sigmoid(model(torch.tensor([[0, 1]], dtype=torch.float32))))\n",
        "print(1, 0, torch.sigmoid(model(torch.tensor([[1, 0]], dtype=torch.float32))))\n",
        "print(1, 1, torch.sigmoid(model(torch.tensor([[1, 1]], dtype=torch.float32))))"
      ],
      "outputs": [
        {
          "output_type": "stream",
          "name": "stdout",
          "text": [
            "epoch error\n",
            "100 0.6974338889122009\n",
            "200 0.060346219688653946\n",
            "300 0.03017815202474594\n",
            "400 0.02041076123714447\n",
            "500 0.012736033648252487\n",
            "600 0.009971623308956623\n",
            "700 0.008884832262992859\n",
            "800 0.0080269705504179\n",
            "900 0.006529876030981541\n",
            "1000 0.005015470553189516\n",
            "\n",
            "x0 x1 y\n",
            "0 0 tensor([[0.0065]], grad_fn=<SigmoidBackward>)\n",
            "0 1 tensor([[0.9950]], grad_fn=<SigmoidBackward>)\n",
            "1 0 tensor([[0.9950]], grad_fn=<SigmoidBackward>)\n",
            "1 1 tensor([[0.0056]], grad_fn=<SigmoidBackward>)\n"
          ]
        }
      ],
      "metadata": {
        "colab": {
          "base_uri": "https://localhost:8080/"
        },
        "id": "uPZ01B3xAcSO",
        "outputId": "3f1439ea-9447-4239-938c-7e9b70a5430e"
      }
    },
    {
      "cell_type": "markdown",
      "source": [
        "### Momentum\n",
        "\n",
        "Sometimes the error surface is shaped like a valley with a very gentle slope as shown below:"
      ],
      "metadata": {
        "id": "dWhpQBINAcSP"
      }
    },
    {
      "cell_type": "code",
      "execution_count": 15,
      "source": [
        "(fig, ax) = plt.subplots(1, 1, subplot_kw={'projection': '3d'})\n",
        "ax.set_xlabel('$p_0$')\n",
        "ax.set_ylabel('$p_1$')\n",
        "ax.set_zlabel('$E$')\n",
        "\n",
        "f = lambda p0,p1:(p0-5)**2 + 20/(p1+1.0)\n",
        "(p0s, p1s) = np.mgrid[0:10.1:0.1, 0:10.1:0.1]\n",
        "es = f(p0s, p1s)\n",
        "ax.plot_surface(p0s, p1s, es, color='red', linewidth=0, antialiased=True)\n",
        "ax.view_init(30, 30)"
      ],
      "outputs": [
        {
          "output_type": "display_data",
          "data": {
            "image/png": "[encoded data removed]",
            "text/plain": [
              "<Figure size 432x288 with 1 Axes>"
            ]
          },
          "metadata": {
            "needs_background": "light"
          }
        }
      ],
      "metadata": {
        "colab": {
          "base_uri": "https://localhost:8080/",
          "height": 248
        },
        "id": "9zqxI6gJAcSP",
        "outputId": "31c26dcd-0f81-46ec-ef20-002ed3850e9f"
      }
    },
    {
      "cell_type": "markdown",
      "source": [
        "In this case you'll end up moving very slowly down the gentle slope whilst jumping back and forth along the walls of the valley.\n",
        "This is a problem but it has a simple solution: momentum.\n",
        "\n",
        "In physics, momentum is when speed builds up as you move, making it harder to slow down.\n",
        "In gradient descent we can do something like that by adding a fraction of the previous update to the new update.\n",
        "Consider the gradient descent update equation:\n",
        "\n",
        "$$p_{t+1} = p_t - \\alpha \\nabla_{p_t}$$\n",
        "\n",
        "where $p_t$ is the parameter to update, $p_{t+1}$ is the updated parameter, $\\alpha$ is the learning rate, and $\\nabla_{p_t}$ is the gradient with respect to the parameter.\n",
        "$\\nabla_{p_t}$ is the velocity with which we are moving along the parameter's direction.\n",
        "We shall now modify it so that a fraction of the previous velocity is included in the new velocity:\n",
        "\n",
        "$$v_{t+1} = \\mu v_t + \\nabla_{p_t}$$\n",
        "$$p_{t+1} = p_t - \\alpha v_{t+1}$$\n",
        "\n",
        "where $\\mu$ is the fraction of the previous velocity to apply to the update step, called the momentum.\n",
        "The bigger $\\mu$ is, the less gradient descent will be affected by the current gradient and the more it will be affected by the total of the previous gradients during training.\n",
        "In the case of the above valley situation, this will make the extent of jumping back and forth across the walls of the valley become smaller and smaller as the gradient in that direction will constantly oscillate from positive to negative, making the total of the gradients in that direction approach zero.\n",
        "It will also accelerate the movement along the gentle slope as the total gradient is constantly increasing.\n",
        "\n",
        "Note that normal gradient descent can be treated as momentum with $\\mu = 0$.\n",
        "\n",
        "To use it in PyTorch is very easy:\n",
        "\n",
        "    optimiser = torch.optim.SGD(model.parameters(), lr=1.0, momentum=0.9)"
      ],
      "metadata": {
        "id": "HITBaIhkAcSQ"
      }
    },
    {
      "cell_type": "code",
      "execution_count": 16,
      "source": [
        "train_x = torch.tensor([[0, 0], [0, 1], [1, 0], [1, 1]], dtype=torch.float32)\n",
        "train_y = torch.tensor([[0], [1], [1], [0]], dtype=torch.float32)\n",
        "\n",
        "class TwoLayer(torch.nn.Module):\n",
        "\n",
        "    def __init__(self):\n",
        "        super().__init__()\n",
        "        self.w1 = torch.nn.Parameter(torch.tensor(np.random.normal(0.0, 1.0, (2, 2)), dtype=torch.float32))\n",
        "        self.b1 = torch.nn.Parameter(torch.zeros((2,), dtype=torch.float32))\n",
        "        self.w2 = torch.nn.Parameter(torch.tensor(np.random.normal(0.0, 1.0, (2, 1)), dtype=torch.float32))\n",
        "        self.b2 = torch.nn.Parameter(torch.zeros((1,), dtype=torch.float32))\n",
        "\n",
        "    def forward(self, x):\n",
        "        hidden = torch.sigmoid(x@self.w1 + self.b1)\n",
        "        return hidden@self.w2 + self.b2\n",
        "\n",
        "model = TwoLayer()\n",
        "model.to('cpu')\n",
        "\n",
        "optimiser = torch.optim.SGD(model.parameters(), lr=1.0, momentum=0.9)\n",
        "\n",
        "print('step', 'error')\n",
        "for step in range(1, 1000+1):\n",
        "    optimiser.zero_grad()\n",
        "    output = model(train_x)\n",
        "    error = torch.nn.functional.binary_cross_entropy_with_logits(output, train_y)\n",
        "    error.backward()\n",
        "    optimiser.step()\n",
        "\n",
        "    if step%100 == 0:\n",
        "        print(step, error.detach().tolist())\n",
        "print()\n",
        "\n",
        "print('x0', 'x1', 'y')\n",
        "print(0, 0, torch.sigmoid(model(torch.tensor([[0, 0]], dtype=torch.float32))).detach().tolist())\n",
        "print(0, 1, torch.sigmoid(model(torch.tensor([[0, 1]], dtype=torch.float32))).detach().tolist())\n",
        "print(1, 0, torch.sigmoid(model(torch.tensor([[1, 0]], dtype=torch.float32))).detach().tolist())\n",
        "print(1, 1, torch.sigmoid(model(torch.tensor([[1, 1]], dtype=torch.float32))).detach().tolist())"
      ],
      "outputs": [
        {
          "output_type": "stream",
          "name": "stdout",
          "text": [
            "step error\n",
            "100 0.01171719841659069\n",
            "200 0.004896038211882114\n",
            "300 0.0031819541472941637\n",
            "400 0.002360434038564563\n",
            "500 0.0018768522422760725\n",
            "600 0.0015579694882035255\n",
            "700 0.0013317809207364917\n",
            "800 0.0011629009386524558\n",
            "900 0.0010320686269551516\n",
            "1000 0.0009276579366996884\n",
            "\n",
            "x0 x1 y\n",
            "0 0 [[0.0008831194718368351]]\n",
            "0 1 [[0.998776376247406]]\n",
            "1 0 [[0.999175488948822]]\n",
            "1 1 [[0.0007738250424154103]]\n"
          ]
        }
      ],
      "metadata": {
        "colab": {
          "base_uri": "https://localhost:8080/"
        },
        "id": "k0nsP-jDAcSQ",
        "outputId": "1da3312d-28f3-40a7-df4c-d37c03af745f"
      }
    },
    {
      "cell_type": "markdown",
      "source": [
        "There are also other more advanced gradient descent optimisers, such as Adam, which adapts the learning rate during training based on the previous gradients measured.\n",
        "It also adapts a different learning rate for each parameter rather than use one learning rate for all parameters, which is useful.\n",
        "This in turn means that the learning rate does not usually need to be set as the default initial learning rate usually works well.\n",
        "\n",
        "To use the Adam optimiser in PyTorch:\n",
        "\n",
        "    optimiser = torch.optim.Adam(model.parameters())"
      ],
      "metadata": {
        "id": "gZI9FsapAcSR"
      }
    },
    {
      "cell_type": "markdown",
      "source": [
        "### Vanishing gradients\n",
        "\n",
        "Adding more layers often results in a problem called the vanishing gradient problem, which is where the layers closer to the input end up having a negligible gradient.\n",
        "Among other reasons, this is because the gradient at a particular layer involves multiplying the activations of all the layers in front of it.\n",
        "Since sigmoid's output is always a fraction between 0 and 1, multiplying a sequence of such fractions together will quickly result in very small values, making the gradient be close to zero.\n",
        "\n",
        "Here we can see a plot of how the average magnitude of the gradients of the weights of two layers vary in a scatter plot:"
      ],
      "metadata": {
        "id": "Zbu-r9PbAcSR"
      }
    },
    {
      "cell_type": "code",
      "execution_count": 17,
      "source": [
        "train_x = torch.tensor([[0, 0], [0, 1], [1, 0], [1, 1]], dtype=torch.float32)\n",
        "train_y = torch.tensor([[0], [1], [1], [0]], dtype=torch.float32)\n",
        "\n",
        "class TwoLayer(torch.nn.Module):\n",
        "\n",
        "    def __init__(self):\n",
        "        super().__init__()\n",
        "        self.w1 = torch.nn.Parameter(torch.tensor(20*(2*np.random.random((2, 2)) - 1), dtype=torch.float32))\n",
        "        self.b1 = torch.nn.Parameter(torch.tensor(20*(2*np.random.random((2,)) - 1), dtype=torch.float32))\n",
        "        self.w2 = torch.nn.Parameter(torch.tensor(20*(2*np.random.random((2, 1)) - 1), dtype=torch.float32))\n",
        "        self.b2 = torch.nn.Parameter(torch.tensor(20*(2*np.random.random((1,)) - 1), dtype=torch.float32))\n",
        "\n",
        "    def forward(self, x):\n",
        "        hidden = torch.sigmoid(x@self.w1 + self.b1)\n",
        "        return hidden@self.w2 + self.b2\n",
        "\n",
        "w1_grads = []\n",
        "w2_grads = []\n",
        "for _ in range(1000):\n",
        "    model = TwoLayer()\n",
        "    model.to('cpu')\n",
        "\n",
        "    output = model(train_x)\n",
        "    error = torch.nn.functional.binary_cross_entropy_with_logits(output, train_y)\n",
        "    error.backward()\n",
        "\n",
        "    w1_grads.append(model.w1.grad.abs().mean())\n",
        "    w2_grads.append(model.w2.grad.abs().mean())\n",
        "\n",
        "    model.w1.grad.zero_()\n",
        "    model.w2.grad.zero_()\n",
        "\n",
        "(fig, ax) = plt.subplots(1, 1)\n",
        "ax.set_xlabel('$w_1$')\n",
        "ax.set_ylabel('$w_2$')\n",
        "ax.plot(w1_grads, w2_grads, color='black', marker='o', markersize=5, linestyle='')\n",
        "ax.grid()"
      ],
      "outputs": [
        {
          "output_type": "display_data",
          "data": {
            "image/png": "[encoded data removed]",
            "text/plain": [
              "<Figure size 432x288 with 1 Axes>"
            ]
          },
          "metadata": {
            "needs_background": "light"
          }
        }
      ],
      "metadata": {
        "colab": {
          "base_uri": "https://localhost:8080/",
          "height": 281
        },
        "id": "JReSMJmQAcSR",
        "outputId": "4d166a28-8fee-4b94-9070-c30658c9ffd8"
      }
    },
    {
      "cell_type": "markdown",
      "source": [
        "Note how the majority of the large gradients are closer to $w_2$, the weights of the output layer.\n",
        "The more layers you add, the smaller the gradients of the early layers get, which makes training them by gradient descent difficult.\n",
        "\n",
        "To avoid this, we use a different function from sigmoid in the hidden layers which can have larger values.\n",
        "A popular activation function, as they're called, is the rectified linear unit (ReLU), which is defined as\n",
        "\n",
        "$$y = \\max(0, x)$$\n",
        "\n",
        "that is, leave the input as-is when it is positive and replace it with zero when it is negative."
      ],
      "metadata": {
        "id": "OglWTYtoAcSS"
      }
    },
    {
      "cell_type": "code",
      "execution_count": 18,
      "source": [
        "(fig, ax) = plt.subplots(1, 1)\n",
        "ax.set_xlabel('$x$')\n",
        "ax.set_ylabel('$y$')\n",
        "\n",
        "xs = np.mgrid[-10:10.1:0.01]\n",
        "ys = np.maximum(0, xs)\n",
        "ax.plot(xs, ys, color='red', marker='', linestyle='-', linewidth=1)\n",
        "ax.text(-5, 6, '$y = \\max(0, x)$', color='red', fontdict={'fontsize': 12})\n",
        "ax.grid()"
      ],
      "outputs": [
        {
          "output_type": "display_data",
          "data": {
            "image/png": "[encoded data removed]",
            "text/plain": [
              "<Figure size 432x288 with 1 Axes>"
            ]
          },
          "metadata": {
            "needs_background": "light"
          }
        }
      ],
      "metadata": {
        "colab": {
          "base_uri": "https://localhost:8080/",
          "height": 279
        },
        "id": "O3uF3JvUAcSS",
        "outputId": "d8c02d8c-2de2-44a7-9b29-3c9c75ebe08e"
      }
    },
    {
      "cell_type": "markdown",
      "source": [
        "Since large values are more likely with ReLU, there tends to be less vanishing gradients.\n",
        "\n",
        "Let's see how the gradients of the two layers vary now:"
      ],
      "metadata": {
        "id": "OvXcuCtFAcSS"
      }
    },
    {
      "cell_type": "code",
      "execution_count": 19,
      "source": [
        "train_x = torch.tensor([[0, 0], [0, 1], [1, 0], [1, 1]], dtype=torch.float32)\n",
        "train_y = torch.tensor([[0], [1], [1], [0]], dtype=torch.float32)\n",
        "\n",
        "class TwoLayer(torch.nn.Module):\n",
        "\n",
        "    def __init__(self):\n",
        "        super().__init__()\n",
        "        self.w1 = torch.nn.Parameter(torch.tensor(20*(2*np.random.random((2, 2)) - 1), dtype=torch.float32))\n",
        "        self.b1 = torch.nn.Parameter(torch.tensor(20*(2*np.random.random((2,)) - 1), dtype=torch.float32))\n",
        "        self.w2 = torch.nn.Parameter(torch.tensor(20*(2*np.random.random((2, 1)) - 1), dtype=torch.float32))\n",
        "        self.b2 = torch.nn.Parameter(torch.tensor(20*(2*np.random.random((1,)) - 1), dtype=torch.float32))\n",
        "\n",
        "    def forward(self, x):\n",
        "        hidden = torch.nn.functional.relu(x@self.w1 + self.b1)\n",
        "        return hidden@self.w2 + self.b2\n",
        "\n",
        "w1_grads = []\n",
        "w2_grads = []\n",
        "for _ in range(1000):\n",
        "    model = TwoLayer()\n",
        "    model.to('cpu')\n",
        "\n",
        "    output = model(train_x)\n",
        "    error = torch.nn.functional.binary_cross_entropy_with_logits(output, train_y)\n",
        "    error.backward()\n",
        "\n",
        "    w1_grads.append(model.w1.grad.abs().mean())\n",
        "    w2_grads.append(model.w2.grad.abs().mean())\n",
        "\n",
        "    model.w1.grad.zero_()\n",
        "    model.w2.grad.zero_()\n",
        "\n",
        "(fig, ax) = plt.subplots(1, 1)\n",
        "ax.set_xlabel('$w_1$')\n",
        "ax.set_ylabel('$w_2$')\n",
        "ax.plot(w1_grads, w2_grads, color='black', marker='o', markersize=5, linestyle='')\n",
        "ax.grid()"
      ],
      "outputs": [
        {
          "output_type": "display_data",
          "data": {
            "image/png": "[encoded data removed]",
            "text/plain": [
              "<Figure size 432x288 with 1 Axes>"
            ]
          },
          "metadata": {
            "needs_background": "light"
          }
        }
      ],
      "metadata": {
        "colab": {
          "base_uri": "https://localhost:8080/",
          "height": 281
        },
        "id": "dyVV1GlnAcST",
        "outputId": "06f5d9fd-ab9e-4806-cdd2-fc95b141da17"
      }
    },
    {
      "cell_type": "markdown",
      "source": [
        "The gradients are still skewed in magnitude but look more distributed than with sigmoid.\n",
        "\n",
        "However, ReLU has a problem known as the dead ReLU problem, which is when a lot of your neural units end up always outputting zero, regardless of what the neural network's input is.\n",
        "To prevent this, the Leaky ReLU is sometimes used instead which replaces the zero with a fraction of the input such as\n",
        "\n",
        "$$y = \\max\\left(\\frac{1}{10}x, x\\right)$$"
      ],
      "metadata": {
        "id": "oLznY8eMAcST"
      }
    },
    {
      "cell_type": "code",
      "execution_count": 20,
      "source": [
        "(fig, ax) = plt.subplots(1, 1)\n",
        "ax.set_xlabel('$x$')\n",
        "ax.set_ylabel('$y$')\n",
        "\n",
        "xs = np.mgrid[-10:10.1:0.01]\n",
        "ys = np.maximum(0.1*xs, xs)\n",
        "ax.plot(xs, ys, color='red', marker='', linestyle='-', linewidth=1)\n",
        "ax.text(-5, 6, '$y = \\max\\\\left(\\\\frac{1}{10}x, x\\\\right)$', color='red', fontdict={'fontsize': 12})\n",
        "ax.grid()"
      ],
      "outputs": [
        {
          "output_type": "display_data",
          "data": {
            "image/png": "[encoded data removed]",
            "text/plain": [
              "<Figure size 432x288 with 1 Axes>"
            ]
          },
          "metadata": {
            "needs_background": "light"
          }
        }
      ],
      "metadata": {
        "colab": {
          "base_uri": "https://localhost:8080/",
          "height": 279
        },
        "id": "nwE4AFv2AcST",
        "outputId": "e664cb99-d1b0-4d54-c17c-38b6a42b1eb1"
      }
    },
    {
      "cell_type": "markdown",
      "source": [
        "which in PyTorch is defined as\n",
        "\n",
        "    torch.nn.functional.leaky_relu(x, 0.1)"
      ],
      "metadata": {
        "id": "8jM5S7bvAcST"
      }
    },
    {
      "cell_type": "code",
      "execution_count": 21,
      "source": [
        "train_x = torch.tensor([[0, 0], [0, 1], [1, 0], [1, 1]], dtype=torch.float32)\n",
        "train_y = torch.tensor([[0], [1], [1], [0]], dtype=torch.float32)\n",
        "\n",
        "class TwoLayer(torch.nn.Module):\n",
        "\n",
        "    def __init__(self):\n",
        "        super().__init__()\n",
        "        self.w1 = torch.nn.Parameter(torch.tensor(np.random.normal(0.0, 1.0, (2, 2)), dtype=torch.float32))\n",
        "        self.b1 = torch.nn.Parameter(torch.zeros((2,), dtype=torch.float32))\n",
        "        self.w2 = torch.nn.Parameter(torch.tensor(np.random.normal(0.0, 1.0, (2, 1)), dtype=torch.float32))\n",
        "        self.b2 = torch.nn.Parameter(torch.zeros((1,), dtype=torch.float32))\n",
        "\n",
        "    def forward(self, x):\n",
        "        hidden = torch.nn.functional.leaky_relu(x@self.w1 + self.b1, 0.1)\n",
        "        return hidden@self.w2 + self.b2\n",
        "\n",
        "model = TwoLayer()\n",
        "model.to('cpu')\n",
        "\n",
        "optimiser = torch.optim.SGD(model.parameters(), lr=1.0)\n",
        "\n",
        "print('step', 'error')\n",
        "for step in range(1, 1000+1):\n",
        "    optimiser.zero_grad()\n",
        "    output = model(train_x)\n",
        "    error = torch.nn.functional.binary_cross_entropy_with_logits(output, train_y)\n",
        "    error.backward()\n",
        "    optimiser.step()\n",
        "\n",
        "    if step%100 == 0:\n",
        "        print(step, error.detach().tolist())\n",
        "print()\n",
        "\n",
        "print('x0', 'x1', 'y')\n",
        "print(0, 0, torch.sigmoid(model(torch.tensor([[0, 0]], dtype=torch.float32))).detach().tolist())\n",
        "print(0, 1, torch.sigmoid(model(torch.tensor([[0, 1]], dtype=torch.float32))).detach().tolist())\n",
        "print(1, 0, torch.sigmoid(model(torch.tensor([[1, 0]], dtype=torch.float32))).detach().tolist())\n",
        "print(1, 1, torch.sigmoid(model(torch.tensor([[1, 1]], dtype=torch.float32))).detach().tolist())"
      ],
      "outputs": [
        {
          "output_type": "stream",
          "name": "stdout",
          "text": [
            "step error\n",
            "100 0.45098739862442017\n",
            "200 0.4509734809398651\n",
            "300 0.4509735107421875\n",
            "400 0.4509734511375427\n",
            "500 0.4509734511375427\n",
            "600 0.4509734511375427\n",
            "700 0.4509734511375427\n",
            "800 0.4509734511375427\n",
            "900 0.4509734511375427\n",
            "1000 0.4509734511375427\n",
            "\n",
            "x0 x1 y\n",
            "0 0 [[0.05697077885270119]]\n",
            "0 1 [[0.9430292248725891]]\n",
            "1 0 [[0.4302929639816284]]\n",
            "1 1 [[0.5697069764137268]]\n"
          ]
        }
      ],
      "metadata": {
        "colab": {
          "base_uri": "https://localhost:8080/"
        },
        "id": "makZX7L8AcSU",
        "outputId": "edb63fec-50af-4132-a906-834cd805ed15"
      }
    },
    {
      "cell_type": "markdown",
      "source": [
        "## Avoiding overfitting\n",
        "\n",
        "When a model makes very good predictions on the training set but bad predictions on other data, we say that the model has overfitted to the training set, which is bad.\n",
        "Ideally, the model learns something that generalises to other data.\n",
        "\n",
        "In the previous topic we saw how L2-weight decay can be used to reduce overfitting by avoiding the use of large weights for a particular input.\n",
        "That input might be very useful in the training set but chances are that it was just a coincidence and will not be there outside of the training set.\n",
        "So L2-weight decay will force the neural network to keep the weights somewhat balanced across inputs so that all input are considered and not just the ones that work well in the training set.\n",
        "This is still possible to do in a two layer neural network, but there are other things we can do as well."
      ],
      "metadata": {
        "id": "RJSh2P2_AcSU"
      }
    },
    {
      "cell_type": "markdown",
      "source": [
        "### Early stopping\n",
        "\n",
        "The easiest way to avoid overfitting is by using early stopping.\n",
        "Keep a small part of the training set separate, called a validation set, and don't use it for training.\n",
        "Instead, use it to measure performance after every epoch (such as measuring model's the accuracy).\n",
        "This will tell you whether the model is just learning the training set by heart or if it's generalising to data outside of the training set.\n",
        "By monitoring the performance on the validation set, you can stop training as soon as the performance starts going down, hence why it's called early stopping.\n",
        "\n",
        "Rather than stopping as soon as the performance goes down, a number of 'bad' epochs are allowed in order to give the model a chance to improve again.\n",
        "The model parameters are then saved every time the validation set performance improves so that the best performing parameters are returned at the end.\n",
        "The maximum number of less-than-best epochs to allow is called the patience.\n",
        "\n",
        "Performance tip: avoid having PyTorch preparing to compute gradients when not necessary (such as when using the model outside of training) by putting your module calls in a `torch.no_grad()` context:\n",
        "\n",
        "    with torch.no_grad():\n",
        "        print(0, 0, torch.sigmoid(model(torch.tensor([[0, 0]], dtype=torch.float32))))\n",
        "\n",
        "Below is an example of how to use early stopping.\n",
        "Since we're using the XOR task, it doesn't make sense to split the 4 row training set into a smaller training set and a validation set.\n",
        "Instead, we'll be using inputs that are similar to those in the training set as a validation set."
      ],
      "metadata": {
        "id": "Gg4sViR8AcSU"
      }
    },
    {
      "cell_type": "code",
      "execution_count": 22,
      "source": [
        "train_x = torch.tensor([[0, 0], [0, 1], [1, 0], [1, 1]], dtype=torch.float32)\n",
        "train_y = torch.tensor([[0], [1], [1], [0]], dtype=torch.float32)\n",
        "\n",
        "val_x = torch.tensor([[-0.1, -0.1], [-0.1, 1.1], [1.1, -0.1], [1.1, 1.1]], dtype=torch.float32)\n",
        "val_y = np.array([[0], [1], [1], [0]], np.float32)\n",
        "\n",
        "class TwoLayer(torch.nn.Module):\n",
        "\n",
        "    def __init__(self):\n",
        "        super().__init__()\n",
        "        self.w1 = torch.nn.Parameter(torch.tensor(np.random.normal(0.0, 1.0, (2, 2)), dtype=torch.float32))\n",
        "        self.b1 = torch.nn.Parameter(torch.zeros((2,), dtype=torch.float32))\n",
        "        self.w2 = torch.nn.Parameter(torch.tensor(np.random.normal(0.0, 1.0, (2, 1)), dtype=torch.float32))\n",
        "        self.b2 = torch.nn.Parameter(torch.zeros((1,), dtype=torch.float32))\n",
        "\n",
        "    def forward(self, x):\n",
        "        hidden = torch.sigmoid(x@self.w1 + self.b1)\n",
        "        return hidden@self.w2 + self.b2\n",
        "\n",
        "model = TwoLayer()\n",
        "model.to('cpu')\n",
        "\n",
        "optimiser = torch.optim.SGD(model.parameters(), lr=1.0)\n",
        "best_val_acc = 0.0\n",
        "patience = 1000\n",
        "num_bad_epochs = 0\n",
        "\n",
        "print('step', 'error', 'val_acc')\n",
        "for step in range(1, 10000+1):\n",
        "    optimiser.zero_grad()\n",
        "    output = model(train_x)\n",
        "    error = torch.nn.functional.binary_cross_entropy_with_logits(output, train_y)\n",
        "    error.backward()\n",
        "    optimiser.step()\n",
        "    \n",
        "    with torch.no_grad():\n",
        "        val_preds = torch.sigmoid(model(val_x)).detach().numpy()\n",
        "    val_acc = np.sum(np.abs(val_preds - val_y) < 0.1)/len(val_preds) # Fraction of predictions within 0.1 from the target.\n",
        "    if val_acc > best_val_acc:\n",
        "        torch.save(model, 'model.pth')\n",
        "        best_val_acc = val_acc\n",
        "        num_bad_epochs = 0\n",
        "    else:\n",
        "        num_bad_epochs += 1\n",
        "        if num_bad_epochs == patience:\n",
        "            break\n",
        "\n",
        "    if step%100 == 0:\n",
        "        print(step, error.detach().tolist(), val_acc)\n",
        "print()\n",
        "\n",
        "best_model = torch.load('model.pth')\n",
        "print('ended on step:', step)\n",
        "print('best val acc:', best_val_acc*100, '%')\n",
        "print()\n",
        "\n",
        "print('x0', 'x1', 'y')\n",
        "with torch.no_grad():\n",
        "    print(0, 0, torch.sigmoid(model(torch.tensor([[0, 0]], dtype=torch.float32))).detach().tolist())\n",
        "    print(0, 1, torch.sigmoid(model(torch.tensor([[0, 1]], dtype=torch.float32))).detach().tolist())\n",
        "    print(1, 0, torch.sigmoid(model(torch.tensor([[1, 0]], dtype=torch.float32))).detach().tolist())\n",
        "    print(1, 1, torch.sigmoid(model(torch.tensor([[1, 1]], dtype=torch.float32))).detach().tolist())"
      ],
      "outputs": [
        {
          "output_type": "stream",
          "name": "stdout",
          "text": [
            "step error val_acc\n",
            "100 0.6271587014198303 0.0\n",
            "200 0.4774932265281677 0.0\n",
            "300 0.4066767990589142 0.5\n",
            "400 0.3811502456665039 0.5\n",
            "500 0.36988991498947144 0.5\n",
            "600 0.3638690114021301 0.5\n",
            "700 0.36020219326019287 0.5\n",
            "800 0.3577621579170227 0.5\n",
            "900 0.3560329079627991 0.5\n",
            "1000 0.35474908351898193 0.5\n",
            "1100 0.35376083850860596 0.5\n",
            "1200 0.35297831892967224 0.5\n",
            "\n",
            "ended on step: 1257\n",
            "best val acc: 50.0 %\n",
            "\n",
            "x0 x1 y\n",
            "0 0 [[0.005441767629235983]]\n",
            "0 1 [[0.9917982816696167]]\n",
            "1 0 [[0.498569130897522]]\n",
            "1 1 [[0.5037502646446228]]\n"
          ]
        }
      ],
      "metadata": {
        "colab": {
          "base_uri": "https://localhost:8080/"
        },
        "id": "_tTCWtv_AcSU",
        "outputId": "4b38f02b-aef8-485f-e52d-63716f1043ce"
      }
    },
    {
      "cell_type": "markdown",
      "source": [
        "### Dropout\n",
        "\n",
        "Dropout is a form of neural network regularisation that consists of zeroing out a random set of hidden layer neural units, that is, dropping them out.\n",
        "The way it works is that the activations of a hidden layer are multiplied by an array of ones and zeros, called a mask, and the result is what is sent to the next layer.\n",
        "The zeroes in the mask array are filled randomly using some probability called the dropout rate, and each separate row in the training set is given a different generated mask which is then regenerated after each epoch.\n",
        "\n",
        "Why does this act as regularisation?\n",
        "The hidden layer tends to develop co-adapted groups of neural units that work together to perform a single function as a team.\n",
        "When these groups become large, there will also be less of them because the number of neural units in a layer is fixed.\n",
        "A few complex functions are more likely to overfit than many independent simple functions because they are more likely to latch on to a single accidentally reliable feature which is not reliable outside of the training set.\n",
        "The fact that a neural unit cannot depend on a group of neural units being present in the previous layer forces it to learn to only use small set of units, which prevents large co-adapted groups from forming.\n",
        "\n",
        "Of course you don't want to used dropout when the model is being used outside of training as that would result in random outputs.\n",
        "On the other hand you can't just remove the mask array and carry on because a neural unit would be trained to expect only a few of the previous layer's neural units being non-zero.\n",
        "Removing the mask would mean that the neural units are suddenly being fed the activations of the entire previous layer, which will not make it work correctly.\n",
        "So if the dropout rate was 0.5 (half of the activations were being replaced by zeros), what we do is make them double the value of the activations so that the next layer's neural units learn to work with twice the activation total they see during training.\n",
        "In this way, removing the mask (and the doubling of activations) will make the neural units receive the same total activations they were receiving during training.\n",
        "In general, for a dropout rate of $p$, the activations of a layer with dropout during training will be multiplied by $\\frac{1}{1 - p}$.\n",
        "\n",
        "We will also need larger hidden layers to compensate for the dropped out neural units and a smaller learning rate due to the noise dropout causes during training.\n",
        "\n",
        "In PyTorch, you use dropout by calling `torch.nn.functional.dropout` which accepts the activations of a layer and the dropout rate."
      ],
      "metadata": {
        "id": "SJM_JUV9AcSV"
      }
    },
    {
      "cell_type": "code",
      "execution_count": 23,
      "source": [
        "train_x = torch.tensor([[0, 0], [0, 1], [1, 0], [1, 1]], dtype=torch.float32)\n",
        "train_y = torch.tensor([[0], [1], [1], [0]], dtype=torch.float32)\n",
        "\n",
        "class TwoLayer(torch.nn.Module):\n",
        "\n",
        "    def __init__(self):\n",
        "        super().__init__()\n",
        "        self.w1 = torch.nn.Parameter(torch.tensor(np.random.normal(0.0, 1.0, (2, 2)), dtype=torch.float32))\n",
        "        self.b1 = torch.nn.Parameter(torch.zeros((2,), dtype=torch.float32))\n",
        "        self.w2 = torch.nn.Parameter(torch.tensor(np.random.normal(0.0, 1.0, (2, 1)), dtype=torch.float32))\n",
        "        self.b2 = torch.nn.Parameter(torch.zeros((1,), dtype=torch.float32))\n",
        "\n",
        "    def forward(self, x, being_trained):\n",
        "        hidden = torch.sigmoid(x@self.w1 + self.b1)\n",
        "        if being_trained:\n",
        "            hidden = torch.nn.functional.dropout(hidden, 0.5)\n",
        "        return hidden@self.w2 + self.b2\n",
        "\n",
        "model = TwoLayer()\n",
        "model.to('cpu')\n",
        "\n",
        "optimiser = torch.optim.SGD(model.parameters(), lr=1.0)\n",
        "\n",
        "print('step', 'error')\n",
        "for step in range(1, 1000+1):\n",
        "    optimiser.zero_grad()\n",
        "    output = model(train_x, True)\n",
        "    error = torch.nn.functional.binary_cross_entropy_with_logits(output, train_y)\n",
        "    error.backward()\n",
        "    optimiser.step()\n",
        "\n",
        "    if step%100 == 0:\n",
        "        print(step, error.detach().tolist())\n",
        "print()\n",
        "\n",
        "print('x0', 'x1', 'y')\n",
        "with torch.no_grad():\n",
        "    print(0, 0, torch.sigmoid(model(torch.tensor([[0, 0]], dtype=torch.float32), False)).detach().tolist())\n",
        "    print(0, 1, torch.sigmoid(model(torch.tensor([[0, 1]], dtype=torch.float32), False)).detach().tolist())\n",
        "    print(1, 0, torch.sigmoid(model(torch.tensor([[1, 0]], dtype=torch.float32), False)).detach().tolist())\n",
        "    print(1, 1, torch.sigmoid(model(torch.tensor([[1, 1]], dtype=torch.float32), False)).detach().tolist())"
      ],
      "outputs": [
        {
          "output_type": "stream",
          "name": "stdout",
          "text": [
            "step error\n",
            "100 0.6540226936340332\n",
            "200 0.7034920454025269\n",
            "300 0.6741132140159607\n",
            "400 0.6788278818130493\n",
            "500 0.6742845177650452\n",
            "600 0.7168082594871521\n",
            "700 0.718989372253418\n",
            "800 0.5255378484725952\n",
            "900 0.7224968671798706\n",
            "1000 0.7015939950942993\n",
            "\n",
            "x0 x1 y\n",
            "0 0 [[0.16945992410182953]]\n",
            "0 1 [[0.5288782715797424]]\n",
            "1 0 [[0.5307739973068237]]\n",
            "1 1 [[0.5353955030441284]]\n"
          ]
        }
      ],
      "metadata": {
        "colab": {
          "base_uri": "https://localhost:8080/"
        },
        "id": "M9C6-tqkAcSW",
        "outputId": "773552e1-cf35-411b-d4c4-2fc11d711b46"
      }
    },
    {
      "cell_type": "markdown",
      "source": [
        "## Hyperparameter tuning\n",
        "\n",
        "We've seen many ways to improve the performance of a neural network, but many of these ways introduce numbers that need to be set before training: the standard deviation of the random normal initialisation, the momentum and learning rate, the dropout rate, the leaky ReLU factor, the minibatch size, the hidden layer size, and so on.\n",
        "Each one of these numbers which are not taken care of by the optimiser during training is called a hyperparameter, and they are one of the biggest headaches in deep learning because it takes a long time to train a big neural network with different hyperparameter values.\n",
        "Is there some kind of system to help us find the right hyperparameters?\n",
        "\n",
        "A simple and effective way to do this is random search.\n",
        "Decide on a set of ranges or values for each hyperparameter and then randomly sample a value from each set.\n",
        "After having your hyperparameters, you then train your model normally and evaluate it on a separate data set called a development set (there would still be a test set to evaluate the final model after hyperparameter tuning).\n",
        "Repeat this process (taking care not to sample the same combination of hyperparameter values more than once) for a number of times.\n",
        "\n",
        "Here's an example:"
      ],
      "metadata": {
        "id": "MCoXEr1UAcSX"
      }
    },
    {
      "cell_type": "code",
      "execution_count": 24,
      "source": [
        "train_x = torch.tensor([[0, 0], [0, 1], [1, 0], [1, 1]], dtype=torch.float32)\n",
        "train_y = torch.tensor([[0], [1], [1], [0]], dtype=torch.float32)\n",
        "\n",
        "dev_x = torch.tensor([[-0.1, -0.1], [-0.1, 1.1], [1.1, -0.1], [1.1, 1.1]], dtype=torch.float32)\n",
        "dev_y = np.array([[0], [1], [1], [0]], np.float32)\n",
        "\n",
        "class TwoLayer(torch.nn.Module):\n",
        "\n",
        "    def __init__(self, hidden_layer_size, init_stddev):\n",
        "        super().__init__()\n",
        "        self.w1 = torch.nn.Parameter(torch.tensor(np.random.normal(0.0, init_stddev, (2, hidden_layer_size)), dtype=torch.float32))\n",
        "        self.b1 = torch.nn.Parameter(torch.zeros((hidden_layer_size,), dtype=torch.float32))\n",
        "        self.w2 = torch.nn.Parameter(torch.tensor(np.random.normal(0.0, init_stddev, (hidden_layer_size, 1)), dtype=torch.float32))\n",
        "        self.b2 = torch.nn.Parameter(torch.zeros((1,), dtype=torch.float32))\n",
        "\n",
        "    def forward(self, x):\n",
        "        hidden = torch.sigmoid(x@self.w1 + self.b1)\n",
        "        return hidden@self.w2 + self.b2\n",
        "\n",
        "hidden_layer_size_set = [1, 2, 4, 8, 16]\n",
        "init_stddev_set = [10.0, 1.0, 0.1, 0.01, 0.001]\n",
        "\n",
        "already_generated = set()\n",
        "best_dev_acc = 0.0\n",
        "best_hyperparams = None\n",
        "for i in range(1, 10+1):\n",
        "    while True:\n",
        "        hidden_layer_size = random.choice(hidden_layer_size_set)\n",
        "        init_stddev = random.choice(init_stddev_set)\n",
        "        hyperparams = (hidden_layer_size, init_stddev)\n",
        "        if hyperparams not in already_generated:\n",
        "            already_generated.add(hyperparams)\n",
        "            break\n",
        "    print('Hyperparameter search attempt:', i)\n",
        "    print('hidden_layer_size:', hidden_layer_size)\n",
        "    print('init_stddev:', init_stddev)\n",
        "\n",
        "    model = TwoLayer(hidden_layer_size, init_stddev)\n",
        "    model.to('cpu')\n",
        "    optimiser = torch.optim.SGD(model.parameters(), lr=10.0)\n",
        "    for step in range(1, 1000+1):\n",
        "        optimiser.zero_grad()\n",
        "        output = model(train_x)\n",
        "        error = torch.nn.functional.binary_cross_entropy_with_logits(output, train_y)\n",
        "        error.backward()\n",
        "        optimiser.step()\n",
        "    \n",
        "    with torch.no_grad():\n",
        "        dev_acc = np.mean(np.abs(torch.sigmoid(model(dev_x)).detach().numpy() - dev_y) < 0.1)\n",
        "    print('Dev set accuracy:', dev_acc)\n",
        "    if dev_acc > best_dev_acc:\n",
        "        best_hyperparams = hyperparams\n",
        "        best_dev_acc = dev_acc\n",
        "        print('new best!')\n",
        "    print()\n",
        "\n",
        "(hidden_layer_size, init_stddev) = best_hyperparams\n",
        "print('Best found:')\n",
        "print('hidden_layer_size:', hidden_layer_size)\n",
        "print('init_stddev:', init_stddev)\n",
        "print('Dev set accuracy:', best_dev_acc)"
      ],
      "outputs": [
        {
          "output_type": "stream",
          "name": "stdout",
          "text": [
            "Hyperparameter search attempt: 1\n",
            "hidden_layer_size: 8\n",
            "init_stddev: 1.0\n",
            "Dev set accuracy: 1.0\n",
            "new best!\n",
            "\n",
            "Hyperparameter search attempt: 2\n",
            "hidden_layer_size: 1\n",
            "init_stddev: 0.01\n",
            "Dev set accuracy: 0.25\n",
            "\n",
            "Hyperparameter search attempt: 3\n",
            "hidden_layer_size: 4\n",
            "init_stddev: 10.0\n",
            "Dev set accuracy: 1.0\n",
            "\n",
            "Hyperparameter search attempt: 4\n",
            "hidden_layer_size: 4\n",
            "init_stddev: 0.1\n",
            "Dev set accuracy: 0.25\n",
            "\n",
            "Hyperparameter search attempt: 5\n",
            "hidden_layer_size: 2\n",
            "init_stddev: 0.1\n",
            "Dev set accuracy: 0.25\n",
            "\n",
            "Hyperparameter search attempt: 6\n",
            "hidden_layer_size: 1\n",
            "init_stddev: 0.001\n",
            "Dev set accuracy: 0.25\n",
            "\n",
            "Hyperparameter search attempt: 7\n",
            "hidden_layer_size: 2\n",
            "init_stddev: 0.01\n",
            "Dev set accuracy: 0.25\n",
            "\n",
            "Hyperparameter search attempt: 8\n",
            "hidden_layer_size: 4\n",
            "init_stddev: 0.01\n",
            "Dev set accuracy: 0.25\n",
            "\n",
            "Hyperparameter search attempt: 9\n",
            "hidden_layer_size: 8\n",
            "init_stddev: 0.001\n",
            "Dev set accuracy: 0.25\n",
            "\n",
            "Hyperparameter search attempt: 10\n",
            "hidden_layer_size: 1\n",
            "init_stddev: 0.1\n",
            "Dev set accuracy: 0.25\n",
            "\n",
            "Best found:\n",
            "hidden_layer_size: 8\n",
            "init_stddev: 1.0\n",
            "Dev set accuracy: 1.0\n"
          ]
        }
      ],
      "metadata": {
        "colab": {
          "base_uri": "https://localhost:8080/"
        },
        "id": "sas8CBDJAcSX",
        "outputId": "e611e280-1e51-4086-863f-a79cf3036868"
      }
    },
    {
      "cell_type": "markdown",
      "source": [
        "## Exercise\n",
        "\n",
        "Repeat last topic's example (the Reuters topic classification task) but this time try to maximise the test set performance by using all the techniques shown in this topic.\n",
        "You can use the test set as a dev set for hyperparameter tuning.\n",
        "All the data preprocessing and validation set extraction has been done for you.\n",
        "Note that the module constructor can contain more attributes than just the parameters so you can also keep some hyperparameters there."
      ],
      "metadata": {
        "id": "ZnHB6Qw-AcSY"
      }
    },
    {
      "cell_type": "code",
      "execution_count": 25,
      "source": [
        "%%capture\n",
        "\n",
        "# nltk.download('reuters')\n",
        "\n",
        "# !unzip /root/nltk_data/corpora/reuters.zip -d /root/nltk_data/corpora"
      ],
      "outputs": [],
      "metadata": {
        "id": "xCZE193hCyz3"
      }
    },
    {
      "cell_type": "code",
      "execution_count": 26,
      "source": [
        "train_x = []\n",
        "train_y = []\n",
        "dev_x = []\n",
        "dev_y = []\n",
        "for file_id in nltk.corpus.reuters.fileids():\n",
        "    x = ' '.join(nltk.corpus.reuters.words(file_id))\n",
        "    y = nltk.corpus.reuters.categories(file_id)[0]\n",
        "    if file_id.startswith('training/'):\n",
        "        train_x.append(x)\n",
        "        train_y.append(y)\n",
        "    else:\n",
        "        dev_x.append(x)\n",
        "        dev_y.append(y)\n",
        "\n",
        "(train_x, val_x, train_y, val_y) = sklearn.model_selection.train_test_split(train_x, train_y, test_size=0.1)\n",
        "\n",
        "categories = sorted(set(train_y))\n",
        "\n",
        "i = 0\n",
        "while i < len(val_x):\n",
        "    if val_y[i] in categories:\n",
        "        i += 1\n",
        "    else:\n",
        "        val_x.pop(i)\n",
        "        val_y.pop(i)\n",
        "\n",
        "i = 0\n",
        "while i < len(dev_x):\n",
        "    if dev_y[i] in categories:\n",
        "        i += 1\n",
        "    else:\n",
        "        dev_x.pop(i)\n",
        "        dev_y.pop(i)\n",
        "\n",
        "encoder = sklearn.feature_extraction.text.CountVectorizer(max_features=1000, binary=True, stop_words='english', lowercase=True, dtype=np.float32)\n",
        "encoder.fit(train_x)\n",
        "\n",
        "train_x_vecs = encoder.transform(train_x).toarray()\n",
        "val_x_vecs = encoder.transform(val_x).toarray()\n",
        "dev_x_vecs = encoder.transform(dev_x).toarray()\n",
        "\n",
        "vocabulary = sorted(encoder.vocabulary_.keys(), key=encoder.vocabulary_.get)\n",
        "\n",
        "train_y_indexes = np.array([categories.index(y) for y in train_y], np.int64)\n",
        "val_y_indexes = np.array([categories.index(y) for y in val_y], np.int64)\n",
        "dev_y_indexes = np.array([categories.index(y) for y in dev_y], np.int64)"
      ],
      "outputs": [],
      "metadata": {
        "id": "8Y-UHna7AcSZ"
      }
    },
    {
      "cell_type": "code",
      "execution_count": 27,
      "source": [
        "# Change problem from regression to classification\n",
        "len_cat = len(categories)\n",
        "# print(min(train_y_indexes))\n",
        "# print(max(train_y_indexes))\n",
        "# print(min(val_y_indexes))\n",
        "# print(max(val_y_indexes))\n",
        "# print(min(dev_y_indexes))\n",
        "# print(max(dev_y_indexes))"
      ],
      "outputs": [],
      "metadata": {}
    },
    {
      "cell_type": "code",
      "execution_count": 28,
      "source": [
        "train_x_vecs.shape"
      ],
      "outputs": [
        {
          "output_type": "execute_result",
          "data": {
            "text/plain": [
              "(6992, 1000)"
            ]
          },
          "metadata": {},
          "execution_count": 28
        }
      ],
      "metadata": {
        "colab": {
          "base_uri": "https://localhost:8080/"
        },
        "id": "DvvklTDKAcSZ",
        "outputId": "64f613fa-37e6-41b4-bcba-2412c754a495"
      }
    },
    {
      "cell_type": "markdown",
      "source": [
        "input size = 1000, 6992 items"
      ],
      "metadata": {
        "id": "aPQivtSzD7XL"
      }
    },
    {
      "cell_type": "code",
      "execution_count": 29,
      "source": [
        "train_y_indexes.shape"
      ],
      "outputs": [
        {
          "output_type": "execute_result",
          "data": {
            "text/plain": [
              "(6992,)"
            ]
          },
          "metadata": {},
          "execution_count": 29
        }
      ],
      "metadata": {
        "colab": {
          "base_uri": "https://localhost:8080/"
        },
        "id": "1d9QC8jdEjww",
        "outputId": "ab6a05ac-23ff-48c8-99d9-74e22f784344"
      }
    },
    {
      "cell_type": "markdown",
      "source": [
        "Regression model, we need to generate a value not classify a class"
      ],
      "metadata": {
        "id": "4EHKpe8wEkvU"
      }
    },
    {
      "cell_type": "code",
      "execution_count": 38,
      "source": [
        "class ExampleNet(torch.nn.Module):\n",
        "    def __init__(self):\n",
        "        super().__init__()\n",
        "        # Layers consist of fully connected layers with dropout and leaky relu\n",
        "        self.layers = torch.nn.Sequential(\n",
        "          torch.nn.Linear(1000, 512),\n",
        "          torch.nn.Dropout(p=0.5),\n",
        "          torch.nn.LeakyReLU(0.1),\n",
        "          torch.nn.Linear(512, 256),\n",
        "          torch.nn.Dropout(p=0.5),\n",
        "          torch.nn.LeakyReLU(0.1),\n",
        "          # torch.nn.Linear(256, 128),\n",
        "          # torch.nn.Dropout(p=0.5),\n",
        "          # torch.nn.LeakyReLU(0.1),\n",
        "          torch.nn.Linear(256, len_cat),   \n",
        "          # torch.nn.LogSoftmax()\n",
        "        )\n",
        "\n",
        "    def forward(self, x):\n",
        "      return self.layers(x)\n",
        "      "
      ],
      "outputs": [],
      "metadata": {
        "id": "CVt3czvqDRax"
      }
    },
    {
      "cell_type": "code",
      "execution_count": 39,
      "source": [
        "# Test that the model accepts an input and outputs a number\n",
        "model = ExampleNet()\n",
        "model.eval() #means we won't train\n",
        "test = model(torch.from_numpy(train_x_vecs[0]))\n",
        "test"
      ],
      "outputs": [
        {
          "output_type": "execute_result",
          "data": {
            "text/plain": [
              "tensor([-0.0541, -0.0275, -0.0440, -0.0345,  0.0689, -0.0504, -0.1022, -0.0668,\n",
              "         0.0354, -0.0024, -0.0153,  0.0863, -0.0343, -0.0427,  0.0467, -0.0925,\n",
              "        -0.0707, -0.0269, -0.0669,  0.0246,  0.0326,  0.1099,  0.0366,  0.0609,\n",
              "         0.0036,  0.0731, -0.0259,  0.0072, -0.0320,  0.0195,  0.0227, -0.0370,\n",
              "         0.0050, -0.1143, -0.1003,  0.0247, -0.0438,  0.0207, -0.0022,  0.0206,\n",
              "         0.0612,  0.0154,  0.0017, -0.0143, -0.0846,  0.0347, -0.0551,  0.0319,\n",
              "        -0.0951, -0.0138,  0.0246,  0.0066, -0.0847, -0.0047,  0.1058,  0.0130,\n",
              "        -0.0229, -0.0007, -0.1122, -0.0357, -0.0536, -0.0407, -0.0268, -0.0221,\n",
              "         0.0201,  0.0682, -0.0605, -0.0487,  0.0426,  0.0051, -0.0289, -0.0430,\n",
              "        -0.0546,  0.0309], grad_fn=<AddBackward0>)"
            ]
          },
          "metadata": {},
          "execution_count": 39
        }
      ],
      "metadata": {
        "colab": {
          "base_uri": "https://localhost:8080/"
        },
        "id": "k296efKGHB53",
        "outputId": "d64804ef-8270-4ef8-bb25-1a9c06e19c8e"
      }
    },
    {
      "cell_type": "markdown",
      "source": [
        "a tensore with a random value for each class is outputted great !"
      ],
      "metadata": {
        "id": "5JbRCINTH7gF"
      }
    },
    {
      "cell_type": "code",
      "execution_count": 40,
      "source": [
        "# Set up dataloaders because, easy\n",
        "\n",
        "from torch.utils.data import TensorDataset, DataLoader\n",
        "\n",
        "train_x = torch.Tensor(train_x_vecs) # transform to torch tensor\n",
        "train_y = torch.Tensor(train_y_indexes)\n",
        "\n",
        "valid_x = torch.Tensor(val_x_vecs) # transform to torch tensor\n",
        "valid_y = torch.Tensor(val_y_indexes)\n",
        "\n",
        "dev_x = torch.Tensor(dev_x_vecs) # transform to torch tensor\n",
        "dev_y = torch.Tensor(dev_y_indexes)\n",
        "\n",
        "train_dataset = TensorDataset(train_x, train_y) # create a dataset object\n",
        "valid_dataset = TensorDataset(valid_x, valid_y) # create a dataset object\n",
        "dev_dataset = TensorDataset(dev_x, dev_y) # create a dataset object\n",
        "\n",
        "train_loader = DataLoader(train_dataset, batch_size=64) # create the dataloader, this will handle batching\n",
        "valid_loader = DataLoader(valid_dataset, batch_size=64) # create the dataloader, this will handle batching\n",
        "dev_loader = DataLoader(dev_dataset, batch_size=64) # create the dataloader, this will handle batching\n"
      ],
      "outputs": [],
      "metadata": {
        "id": "1QPDFjjnITqH"
      }
    },
    {
      "cell_type": "code",
      "execution_count": 41,
      "source": [
        "# Good function for classification\n",
        "criterion = torch.nn.CrossEntropyLoss()\n",
        "# Adam is just good\n",
        "optimizer = torch.optim.Adam(model.parameters(), lr=1e-3)"
      ],
      "outputs": [],
      "metadata": {
        "id": "JUFTOESWGW__"
      }
    },
    {
      "cell_type": "code",
      "execution_count": 42,
      "source": [
        "# setup for training & validation loop\n",
        "data_loaders = {}\n",
        "data_loaders['train'] = train_loader\n",
        "data_loaders['val'] = valid_loader\n",
        "data_lengths = {\"train\": train_x_vecs.shape[0], \"val\": val_x_vecs.shape[0]}\n",
        "print(data_lengths['train'])\n",
        "print(data_lengths['val'])\n",
        "epochs = 20\n",
        "step = epochs//5\n",
        "# get the device\n",
        "device = \"cuda\" if torch.cuda.is_available() else \"cpu\"\n",
        "print(device)\n",
        "model.to(device)\n"
      ],
      "outputs": [
        {
          "output_type": "stream",
          "name": "stdout",
          "text": [
            "6992\n",
            "777\n",
            "cuda\n"
          ]
        },
        {
          "output_type": "execute_result",
          "data": {
            "text/plain": [
              "ExampleNet(\n",
              "  (layers): Sequential(\n",
              "    (0): Linear(in_features=1000, out_features=512, bias=True)\n",
              "    (1): Dropout(p=0.5, inplace=False)\n",
              "    (2): LeakyReLU(negative_slope=0.1)\n",
              "    (3): Linear(in_features=512, out_features=256, bias=True)\n",
              "    (4): Dropout(p=0.5, inplace=False)\n",
              "    (5): LeakyReLU(negative_slope=0.1)\n",
              "    (6): Linear(in_features=256, out_features=74, bias=True)\n",
              "  )\n",
              ")"
            ]
          },
          "metadata": {},
          "execution_count": 42
        }
      ],
      "metadata": {
        "colab": {
          "base_uri": "https://localhost:8080/"
        },
        "id": "XD97YK57H5Qm",
        "outputId": "abb26657-c9ab-4344-f2de-6539008cb1ed"
      }
    },
    {
      "cell_type": "code",
      "execution_count": 43,
      "source": [
        "\n",
        "for epoch in range(epochs):\n",
        "    if (epoch+1) % step == 0:\n",
        "        print('Epoch {}/{}'.format(epoch, epochs - 1))\n",
        "        print('-' * 10)\n",
        "\n",
        "    # Each epoch has a training and validation phase\n",
        "    for phase in ['train', 'val']:\n",
        "        if phase == 'train':\n",
        "            model.train(True)  # Set model to training mode\n",
        "        else:\n",
        "            model.train(False)  # Set model to evaluate mode\n",
        "\n",
        "        running_loss = 0.0\n",
        "\n",
        "        # Iterate over data.\n",
        "        for data in data_loaders[phase]:\n",
        "            inputs, labels = data\n",
        "            # Move data to device\n",
        "            inputs, labels = inputs.to(device).float(), labels.to(device).long()\n",
        "            # forward pass to get outputs\n",
        "            output = model(inputs)\n",
        "\n",
        "            # calculate the loss between predicted and target keypoints\n",
        "            loss = criterion(output.squeeze(1), labels)\n",
        "\n",
        "            # zero the parameter (weight) gradients\n",
        "            optimizer.zero_grad()\n",
        "\n",
        "            # backward + optimize only if in training phase\n",
        "            if phase == 'train':\n",
        "                loss.backward()\n",
        "                # update the weights\n",
        "                optimizer.step()\n",
        "\n",
        "            # print loss statistics\n",
        "            running_loss += loss.item()\n",
        "\n",
        "        epoch_loss = running_loss / data_lengths[phase]\n",
        "        if (epoch+1) % step == 0:\n",
        "          print('{} Loss: {:.4f}'.format(phase, epoch_loss))"
      ],
      "outputs": [
        {
          "output_type": "stream",
          "name": "stdout",
          "text": [
            "Epoch 5/29\n",
            "----------\n",
            "train Loss: 0.0051\n",
            "val Loss: 0.0114\n",
            "Epoch 11/29\n",
            "----------\n",
            "train Loss: 0.0018\n",
            "val Loss: 0.0139\n",
            "Epoch 17/29\n",
            "----------\n",
            "train Loss: 0.0008\n",
            "val Loss: 0.0165\n",
            "Epoch 23/29\n",
            "----------\n",
            "train Loss: 0.0006\n",
            "val Loss: 0.0170\n",
            "Epoch 29/29\n",
            "----------\n",
            "train Loss: 0.0005\n",
            "val Loss: 0.0180\n"
          ]
        }
      ],
      "metadata": {
        "colab": {
          "base_uri": "https://localhost:8080/"
        },
        "id": "lzKCYI5wKlVV",
        "outputId": "e6b242b0-5ce8-4d77-93b6-94fe03dfe7cb"
      }
    },
    {
      "cell_type": "markdown",
      "source": [],
      "metadata": {}
    },
    {
      "cell_type": "code",
      "execution_count": 44,
      "source": [
        "\n",
        "# Test loop\n",
        "model.train(False)  # Set model to evaluate mode\n",
        "model.cpu()\n",
        "predictions = []\n",
        "test_labels = []\n",
        "with torch.no_grad():\n",
        "    for inputs, labels in dev_loader:\n",
        "        inputs, labels = inputs.float(), labels.float()\n",
        "        outputs = model(inputs)\n",
        "        _, predicted = torch.max(outputs.data, 1)\n",
        "        for p in predicted:\n",
        "            predictions.append(p)\n",
        "\n",
        "        for l in labels:\n",
        "            test_labels.append(l)\n",
        "\n"
      ],
      "outputs": [],
      "metadata": {
        "id": "VblScI_FOBNu"
      }
    },
    {
      "cell_type": "code",
      "execution_count": 45,
      "source": [
        "\n",
        "from sklearn.metrics import accuracy_score, fbeta_score, precision_score, recall_score\n",
        "# Print metrics\n",
        "print(\"Final accuracy score on the testing data: {:.4f}\".format(accuracy_score(test_labels, predictions)))\n",
        "print(\"Final F-score on the testing data: {:.4f}\".format(fbeta_score(test_labels, predictions, beta = 0.5,average='weighted')))\n",
        "print(\"Final precision score on the testing data: {:.4f}\".format(precision_score(test_labels, predictions, average='weighted')))\n",
        "print(\"Final recall score on the testing data: {:.4f}\".format(recall_score(test_labels, predictions, average='weighted')))\n",
        "\n"
      ],
      "outputs": [
        {
          "output_type": "stream",
          "name": "stdout",
          "text": [
            "Final accuracy score on the testing data: 0.8231\n",
            "Final F-score on the testing data: 0.8151\n",
            "Final precision score on the testing data: 0.8182\n",
            "Final recall score on the testing data: 0.8231\n"
          ]
        },
        {
          "output_type": "stream",
          "name": "stderr",
          "text": [
            "/home/wsl/miniconda3/envs/deep_learning/lib/python3.9/site-packages/sklearn/metrics/_classification.py:1248: UndefinedMetricWarning: Precision is ill-defined and being set to 0.0 in labels with no predicted samples. Use `zero_division` parameter to control this behavior.\n",
            "  _warn_prf(average, modifier, msg_start, len(result))\n",
            "/home/wsl/miniconda3/envs/deep_learning/lib/python3.9/site-packages/sklearn/metrics/_classification.py:1248: UndefinedMetricWarning: Recall is ill-defined and being set to 0.0 in labels with no true samples. Use `zero_division` parameter to control this behavior.\n",
            "  _warn_prf(average, modifier, msg_start, len(result))\n"
          ]
        }
      ],
      "metadata": {
        "colab": {
          "base_uri": "https://localhost:8080/"
        },
        "id": "UVIgJonQOKqt",
        "outputId": "aee40c1a-9d97-4a2c-eb5b-5656878f9feb"
      }
    },
    {
      "cell_type": "markdown",
      "source": [
        "# Hyperparameters and their Results\n",
        "\n",
        "---\n",
        "\n",
        "## Starting point\n",
        "\n",
        "```python\n",
        "ExampleNet(\n",
        "  (layers): Sequential(\n",
        "    (0): Linear(in_features=1000, out_features=512, bias=True)\n",
        "    (1): Dropout(p=0.5, inplace=False)\n",
        "    (2): LeakyReLU(negative_slope=0.1)\n",
        "    (3): Linear(in_features=512, out_features=256, bias=True)\n",
        "    (4): Dropout(p=0.5, inplace=False)\n",
        "    (5): LeakyReLU(negative_slope=0.1)\n",
        "    (6): Linear(in_features=256, out_features=72, bias=True)\n",
        "    (7): Softmax(dim=None)\n",
        "  )\n",
        "\n",
        "\n",
        "criterion = torch.nn.CrossEntropyLoss()\n",
        "optimizer = torch.optim.Adam(model.parameters(), lr=1e-4)\n",
        "epochs = 10\n",
        "```\n",
        "Final accuracy score on the testing data: 0.6486\n",
        "\n",
        "Final F-score on the testing data: 0.5435\n",
        "\n",
        "Final precision score on the testing data: 0.5262\n",
        "\n",
        "Final recall score on the testing data: 0.6486\n",
        "\n",
        "---\n",
        "\n",
        "## Play with final activation function\n",
        "\n",
        "```python\n",
        "ExampleNet(\n",
        "  (layers): Sequential(\n",
        "    (0): Linear(in_features=1000, out_features=512, bias=True)\n",
        "    (1): Dropout(p=0.5, inplace=False)\n",
        "    (2): LeakyReLU(negative_slope=0.1)\n",
        "    (3): Linear(in_features=512, out_features=256, bias=True)\n",
        "    (4): Dropout(p=0.5, inplace=False)\n",
        "    (5): LeakyReLU(negative_slope=0.1)\n",
        "    (6): Linear(in_features=256, out_features=72, bias=True)\n",
        "  )\n",
        "\n",
        "\n",
        "criterion = torch.nn.CrossEntropyLoss()\n",
        "optimizer = torch.optim.Adam(model.parameters(), lr=1e-4)\n",
        "epochs = 10\n",
        "```\n",
        "\n",
        "##### ReLU & LogSoftmax activation function at the end achieved similar results\n",
        "\n",
        "Final accuracy score on the testing data: 0.7786\n",
        "\n",
        "Final F-score on the testing data: 0.7183\n",
        "\n",
        "Final precision score on the testing data: 0.7155\n",
        "\n",
        "Final recall score on the testing data: 0.7786\n",
        "\n",
        "---\n",
        "\n",
        "## Epoch\n",
        "\n",
        "```python\n",
        "ExampleNet(\n",
        "  (layers): Sequential(\n",
        "    (0): Linear(in_features=1000, out_features=512, bias=True)\n",
        "    (1): Dropout(p=0.5, inplace=False)\n",
        "    (2): LeakyReLU(negative_slope=0.1)\n",
        "    (3): Linear(in_features=512, out_features=256, bias=True)\n",
        "    (4): Dropout(p=0.5, inplace=False)\n",
        "    (5): LeakyReLU(negative_slope=0.1)\n",
        "    (6): Linear(in_features=256, out_features=72, bias=True)\n",
        "    (7): LogSoftmax(dim=None)\n",
        "  )\n",
        "\n",
        "\n",
        "criterion = torch.nn.CrossEntropyLoss()\n",
        "optimizer = torch.optim.Adam(model.parameters(), lr=1e-4)\n",
        "epochs = 20\n",
        "```\n",
        "\n",
        "##### epoch at 40 achieved similar results (stuck in local minima)\n",
        "\n",
        "Final accuracy score on the testing data: 0.8265\n",
        "\n",
        "Final F-score on the testing data: 0.7999\n",
        "\n",
        "Final precision score on the testing data: 0.8022\n",
        "\n",
        "Final recall score on the testing data: 0.8265\n",
        "\n",
        "---\n",
        "\n",
        "```python\n",
        "ExampleNet(\n",
        "  (layers): Sequential(\n",
        "    (0): Linear(in_features=1000, out_features=512, bias=True)\n",
        "    (1): Dropout(p=0.5, inplace=False)\n",
        "    (2): LeakyReLU(negative_slope=0.1)\n",
        "    (3): Linear(in_features=512, out_features=256, bias=True)\n",
        "    (4): Dropout(p=0.5, inplace=False)\n",
        "    (5): LeakyReLU(negative_slope=0.1)\n",
        "    (6): Linear(in_features=256, out_features=72, bias=True)\n",
        "  )\n",
        "\n",
        "\n",
        "criterion = torch.nn.CrossEntropyLoss()\n",
        "optimizer = torch.optim.Adam(model.parameters(), lr=1e-3)\n",
        "epochs = 20\n",
        "```\n",
        "\n",
        "##### epoch at 40 achieved similar results (stuck in local minima)\n",
        "\n",
        "Final accuracy score on the testing data: 0.8315\n",
        "\n",
        "Final F-score on the testing data: 0.8232\n",
        "\n",
        "Final precision score on the testing data: 0.8251\n",
        "\n",
        "Final recall score on the testing data: 0.8315"
      ],
      "metadata": {}
    }
  ]
}